{
 "nbformat": 4,
 "nbformat_minor": 0,
 "metadata": {
  "kernelspec": {
   "display_name": "Python 3",
   "language": "python",
   "name": "python3"
  },
  "language_info": {
   "codemirror_mode": {
    "name": "ipython",
    "version": 3
   },
   "file_extension": ".py",
   "mimetype": "text/x-python",
   "name": "python",
   "nbconvert_exporter": "python",
   "pygments_lexer": "ipython3",
   "version": "3.7.3"
  },
  "colab": {
   "name": "Google Play Store App Analytics (start).ipynb",
   "provenance": [],
   "toc_visible": true
  }
 },
 "cells": [
  {
   "cell_type": "markdown",
   "metadata": {
    "dc": {
     "key": "4"
    },
    "run_control": {
     "frozen": true
    },
    "tags": [
     "context"
    ],
    "id": "-Sxae4jbdiT2"
   },
   "source": [
    "# Introduction\n",
    "\n",
    "In this notebook, we will do a comprehensive analysis of the Android app market by comparing thousands of apps in the Google Play store."
   ]
  },
  {
   "cell_type": "markdown",
   "metadata": {
    "id": "sDT5lMxadiT3"
   },
   "source": [
    "# About the Dataset of Google Play Store Apps & Reviews"
   ]
  },
  {
   "cell_type": "markdown",
   "metadata": {
    "id": "5CiydsdNdiT3"
   },
   "source": [
    "**Data Source:** <br>\n",
    "App and review data was scraped from the Google Play Store by Lavanya Gupta in 2018. Original files listed [here](\n",
    "https://www.kaggle.com/lava18/google-play-store-apps)."
   ]
  },
  {
   "cell_type": "markdown",
   "metadata": {
    "id": "BBKBNy4UdiT4"
   },
   "source": [
    "# Import Statements"
   ]
  },
  {
   "cell_type": "code",
   "metadata": {
    "id": "_5mfFH4_diT4",
    "executionInfo": {
     "status": "ok",
     "timestamp": 1602234478794,
     "user_tz": -60,
     "elapsed": 594,
     "user": {
      "displayName": "Philipp Muellauer",
      "photoUrl": "https://lh3.googleusercontent.com/a-/AOh14GjjWitgsmZ0M9Wmzf-SRYD005WcMGhejWWHMUiZnFw=s64",
      "userId": "02749974243016517270"
     }
    }
   },
   "source": [
    "import pandas as pd\n"
   ],
   "execution_count": 2,
   "outputs": []
  },
  {
   "cell_type": "markdown",
   "metadata": {
    "id": "KegC9nPDdiT7"
   },
   "source": [
    "# Notebook Presentation"
   ]
  },
  {
   "cell_type": "code",
   "metadata": {
    "id": "WPL7rhJndiT7"
   },
   "source": [
    "# Show numeric output in decimal format e.g., 2.15\n",
    "pd.options.display.float_format = '{:,.2f}'.format"
   ],
   "execution_count": 3,
   "outputs": []
  },
  {
   "cell_type": "markdown",
   "metadata": {
    "id": "Uc9LOZu9diT-"
   },
   "source": [
    "# Read the Dataset"
   ]
  },
  {
   "cell_type": "code",
   "metadata": {
    "id": "zU0Zisv_diT-",
    "executionInfo": {
     "status": "error",
     "timestamp": 1602234486357,
     "user_tz": -60,
     "elapsed": 441,
     "user": {
      "displayName": "Philipp Muellauer",
      "photoUrl": "https://lh3.googleusercontent.com/a-/AOh14GjjWitgsmZ0M9Wmzf-SRYD005WcMGhejWWHMUiZnFw=s64",
      "userId": "02749974243016517270"
     }
    },
    "outputId": "f88a917e-30a1-45a4-b17a-ab21e557913c",
    "colab": {
     "base_uri": "https://localhost:8080/",
     "height": 375
    }
   },
   "source": [
    "df_apps = pd.read_csv('apps.csv')"
   ],
   "execution_count": 4,
   "outputs": []
  },
  {
   "cell_type": "markdown",
   "metadata": {
    "id": "iKvSUwQldiUA"
   },
   "source": [
    "# Data Cleaning"
   ]
  },
  {
   "cell_type": "markdown",
   "metadata": {
    "id": "MWTzYZIds5L9"
   },
   "source": [
    "**Challenge**: How many rows and columns does `df_apps` have? What are the column names? Look at a random sample of 5 different rows with [.sample()](https://pandas.pydata.org/pandas-docs/stable/reference/api/pandas.DataFrame.sample.html)."
   ]
  },
  {
   "cell_type": "code",
   "metadata": {
    "id": "HJI7UsPrnuRf"
   },
   "source": [
    "df_apps.shape"
   ],
   "execution_count": 5,
   "outputs": [
    {
     "data": {
      "text/plain": "(10841, 12)"
     },
     "execution_count": 5,
     "metadata": {},
     "output_type": "execute_result"
    }
   ]
  },
  {
   "cell_type": "code",
   "execution_count": 6,
   "outputs": [
    {
     "data": {
      "text/plain": "                                      App             Category  Rating  \\\n10666                    Garena Free Fire                 GAME    4.50   \n2624                         AK Blackjack                 GAME     NaN   \n7276                    Speed Boat Racing               SPORTS    4.00   \n9303                         Retro Camera          PHOTOGRAPHY    4.00   \n9644              MX Player Codec (ARMv7)   LIBRARIES_AND_DEMO    4.30   \n1043   Message AI - Write Better Messages                TOOLS     NaN   \n1917            FAHREDDİN er-RÂZİ TEFSİRİ  BOOKS_AND_REFERENCE     NaN   \n1378      CT Scan Cross Sectional Anatomy              MEDICAL    4.30   \n8551                         Guns'n'Glory               FAMILY    4.40   \n10230                                  aa               FAMILY    4.20   \n\n       Reviews  Size_MBs     Installs  Type  Price Content_Rating  \\\n10666  5534114     53.00  100,000,000  Free      0           Teen   \n2624         4      7.60        1,000  Free      0           Teen   \n7276      2487     27.00    1,000,000  Free      0       Everyone   \n9303    125616      6.90   10,000,000  Free      0       Everyone   \n9644    332083      6.30   10,000,000  Free      0       Everyone   \n1043         0      7.90          100  Paid  $2.99     Mature 17+   \n1917         9     20.00        1,000  Free      0       Everyone   \n1378        10     46.00          100  Free      0       Everyone   \n8551     89947     22.00    5,000,000  Free      0   Everyone 10+   \n10230   886418      6.50   50,000,000  Free      0       Everyone   \n\n                  Genres      Last_Updated   Android_Ver  \n10666             Action    August 3, 2018  4.0.3 and up  \n2624                Card     July 30, 2018    4.1 and up  \n7276              Sports    August 3, 2018  4.0.3 and up  \n9303         Photography    March 10, 2017  2.3.3 and up  \n9644    Libraries & Demo    April 23, 2018    4.0 and up  \n1043               Tools      July 4, 2018    5.0 and up  \n1917   Books & Reference    March 19, 2018  4.0.3 and up  \n1378             Medical     July 19, 2018    4.1 and up  \n8551            Strategy  February 9, 2018    4.0 and up  \n10230           Strategy     June 30, 2018    4.1 and up  ",
      "text/html": "<div>\n<style scoped>\n    .dataframe tbody tr th:only-of-type {\n        vertical-align: middle;\n    }\n\n    .dataframe tbody tr th {\n        vertical-align: top;\n    }\n\n    .dataframe thead th {\n        text-align: right;\n    }\n</style>\n<table border=\"1\" class=\"dataframe\">\n  <thead>\n    <tr style=\"text-align: right;\">\n      <th></th>\n      <th>App</th>\n      <th>Category</th>\n      <th>Rating</th>\n      <th>Reviews</th>\n      <th>Size_MBs</th>\n      <th>Installs</th>\n      <th>Type</th>\n      <th>Price</th>\n      <th>Content_Rating</th>\n      <th>Genres</th>\n      <th>Last_Updated</th>\n      <th>Android_Ver</th>\n    </tr>\n  </thead>\n  <tbody>\n    <tr>\n      <th>10666</th>\n      <td>Garena Free Fire</td>\n      <td>GAME</td>\n      <td>4.50</td>\n      <td>5534114</td>\n      <td>53.00</td>\n      <td>100,000,000</td>\n      <td>Free</td>\n      <td>0</td>\n      <td>Teen</td>\n      <td>Action</td>\n      <td>August 3, 2018</td>\n      <td>4.0.3 and up</td>\n    </tr>\n    <tr>\n      <th>2624</th>\n      <td>AK Blackjack</td>\n      <td>GAME</td>\n      <td>NaN</td>\n      <td>4</td>\n      <td>7.60</td>\n      <td>1,000</td>\n      <td>Free</td>\n      <td>0</td>\n      <td>Teen</td>\n      <td>Card</td>\n      <td>July 30, 2018</td>\n      <td>4.1 and up</td>\n    </tr>\n    <tr>\n      <th>7276</th>\n      <td>Speed Boat Racing</td>\n      <td>SPORTS</td>\n      <td>4.00</td>\n      <td>2487</td>\n      <td>27.00</td>\n      <td>1,000,000</td>\n      <td>Free</td>\n      <td>0</td>\n      <td>Everyone</td>\n      <td>Sports</td>\n      <td>August 3, 2018</td>\n      <td>4.0.3 and up</td>\n    </tr>\n    <tr>\n      <th>9303</th>\n      <td>Retro Camera</td>\n      <td>PHOTOGRAPHY</td>\n      <td>4.00</td>\n      <td>125616</td>\n      <td>6.90</td>\n      <td>10,000,000</td>\n      <td>Free</td>\n      <td>0</td>\n      <td>Everyone</td>\n      <td>Photography</td>\n      <td>March 10, 2017</td>\n      <td>2.3.3 and up</td>\n    </tr>\n    <tr>\n      <th>9644</th>\n      <td>MX Player Codec (ARMv7)</td>\n      <td>LIBRARIES_AND_DEMO</td>\n      <td>4.30</td>\n      <td>332083</td>\n      <td>6.30</td>\n      <td>10,000,000</td>\n      <td>Free</td>\n      <td>0</td>\n      <td>Everyone</td>\n      <td>Libraries &amp; Demo</td>\n      <td>April 23, 2018</td>\n      <td>4.0 and up</td>\n    </tr>\n    <tr>\n      <th>1043</th>\n      <td>Message AI - Write Better Messages</td>\n      <td>TOOLS</td>\n      <td>NaN</td>\n      <td>0</td>\n      <td>7.90</td>\n      <td>100</td>\n      <td>Paid</td>\n      <td>$2.99</td>\n      <td>Mature 17+</td>\n      <td>Tools</td>\n      <td>July 4, 2018</td>\n      <td>5.0 and up</td>\n    </tr>\n    <tr>\n      <th>1917</th>\n      <td>FAHREDDİN er-RÂZİ TEFSİRİ</td>\n      <td>BOOKS_AND_REFERENCE</td>\n      <td>NaN</td>\n      <td>9</td>\n      <td>20.00</td>\n      <td>1,000</td>\n      <td>Free</td>\n      <td>0</td>\n      <td>Everyone</td>\n      <td>Books &amp; Reference</td>\n      <td>March 19, 2018</td>\n      <td>4.0.3 and up</td>\n    </tr>\n    <tr>\n      <th>1378</th>\n      <td>CT Scan Cross Sectional Anatomy</td>\n      <td>MEDICAL</td>\n      <td>4.30</td>\n      <td>10</td>\n      <td>46.00</td>\n      <td>100</td>\n      <td>Free</td>\n      <td>0</td>\n      <td>Everyone</td>\n      <td>Medical</td>\n      <td>July 19, 2018</td>\n      <td>4.1 and up</td>\n    </tr>\n    <tr>\n      <th>8551</th>\n      <td>Guns'n'Glory</td>\n      <td>FAMILY</td>\n      <td>4.40</td>\n      <td>89947</td>\n      <td>22.00</td>\n      <td>5,000,000</td>\n      <td>Free</td>\n      <td>0</td>\n      <td>Everyone 10+</td>\n      <td>Strategy</td>\n      <td>February 9, 2018</td>\n      <td>4.0 and up</td>\n    </tr>\n    <tr>\n      <th>10230</th>\n      <td>aa</td>\n      <td>FAMILY</td>\n      <td>4.20</td>\n      <td>886418</td>\n      <td>6.50</td>\n      <td>50,000,000</td>\n      <td>Free</td>\n      <td>0</td>\n      <td>Everyone</td>\n      <td>Strategy</td>\n      <td>June 30, 2018</td>\n      <td>4.1 and up</td>\n    </tr>\n  </tbody>\n</table>\n</div>"
     },
     "execution_count": 6,
     "metadata": {},
     "output_type": "execute_result"
    }
   ],
   "source": [
    "df_apps.sample(10)"
   ],
   "metadata": {
    "collapsed": false,
    "pycharm": {
     "name": "#%%\n"
    }
   }
  },
  {
   "cell_type": "code",
   "metadata": {
    "id": "MUluaHF5nueH"
   },
   "source": [],
   "execution_count": 6,
   "outputs": []
  },
  {
   "cell_type": "markdown",
   "metadata": {
    "id": "Hh81sMcvdiUI"
   },
   "source": [
    "### Drop Unused Columns\n",
    "\n",
    "**Challenge**: Remove the columns called `Last_Updated` and `Android_Version` from the DataFrame. We will not use these columns. "
   ]
  },
  {
   "cell_type": "code",
   "metadata": {
    "id": "t7EMSKAOnyzI"
   },
   "source": [
    "df_apps.drop(['Last_Updated', 'Android_Ver'], axis=1, inplace=True)\n",
    "df_apps.sample(5)"
   ],
   "execution_count": 7,
   "outputs": [
    {
     "data": {
      "text/plain": "                                                    App      Category  Rating  \\\n8683                                الفاتحون Conquerors        FAMILY    4.50   \n2915  Mind Map AR, Augmented Reality ARCore Mind Map...  PRODUCTIVITY    4.20   \n5180                                 FreshBooks Classic      BUSINESS    4.10   \n1661                                        BT Share It      BUSINESS    4.70   \n3026                                  ck-modelcars Shop      SHOPPING    4.50   \n\n      Reviews  Size_MBs   Installs  Type Price Content_Rating        Genres  \n8683   108130     40.00  5,000,000  Free     0           Teen      Strategy  \n2915       29     35.00      5,000  Free     0       Everyone  Productivity  \n5180     1802     26.00    100,000  Free     0       Everyone      Business  \n1661       12     13.00        500  Free     0       Everyone      Business  \n3026      118      6.40      5,000  Free     0       Everyone      Shopping  ",
      "text/html": "<div>\n<style scoped>\n    .dataframe tbody tr th:only-of-type {\n        vertical-align: middle;\n    }\n\n    .dataframe tbody tr th {\n        vertical-align: top;\n    }\n\n    .dataframe thead th {\n        text-align: right;\n    }\n</style>\n<table border=\"1\" class=\"dataframe\">\n  <thead>\n    <tr style=\"text-align: right;\">\n      <th></th>\n      <th>App</th>\n      <th>Category</th>\n      <th>Rating</th>\n      <th>Reviews</th>\n      <th>Size_MBs</th>\n      <th>Installs</th>\n      <th>Type</th>\n      <th>Price</th>\n      <th>Content_Rating</th>\n      <th>Genres</th>\n    </tr>\n  </thead>\n  <tbody>\n    <tr>\n      <th>8683</th>\n      <td>الفاتحون Conquerors</td>\n      <td>FAMILY</td>\n      <td>4.50</td>\n      <td>108130</td>\n      <td>40.00</td>\n      <td>5,000,000</td>\n      <td>Free</td>\n      <td>0</td>\n      <td>Teen</td>\n      <td>Strategy</td>\n    </tr>\n    <tr>\n      <th>2915</th>\n      <td>Mind Map AR, Augmented Reality ARCore Mind Map...</td>\n      <td>PRODUCTIVITY</td>\n      <td>4.20</td>\n      <td>29</td>\n      <td>35.00</td>\n      <td>5,000</td>\n      <td>Free</td>\n      <td>0</td>\n      <td>Everyone</td>\n      <td>Productivity</td>\n    </tr>\n    <tr>\n      <th>5180</th>\n      <td>FreshBooks Classic</td>\n      <td>BUSINESS</td>\n      <td>4.10</td>\n      <td>1802</td>\n      <td>26.00</td>\n      <td>100,000</td>\n      <td>Free</td>\n      <td>0</td>\n      <td>Everyone</td>\n      <td>Business</td>\n    </tr>\n    <tr>\n      <th>1661</th>\n      <td>BT Share It</td>\n      <td>BUSINESS</td>\n      <td>4.70</td>\n      <td>12</td>\n      <td>13.00</td>\n      <td>500</td>\n      <td>Free</td>\n      <td>0</td>\n      <td>Everyone</td>\n      <td>Business</td>\n    </tr>\n    <tr>\n      <th>3026</th>\n      <td>ck-modelcars Shop</td>\n      <td>SHOPPING</td>\n      <td>4.50</td>\n      <td>118</td>\n      <td>6.40</td>\n      <td>5,000</td>\n      <td>Free</td>\n      <td>0</td>\n      <td>Everyone</td>\n      <td>Shopping</td>\n    </tr>\n  </tbody>\n</table>\n</div>"
     },
     "execution_count": 7,
     "metadata": {},
     "output_type": "execute_result"
    }
   ]
  },
  {
   "cell_type": "markdown",
   "metadata": {
    "id": "YQGe1DIKdiUM"
   },
   "source": [
    "### Find and Remove NaN values in Ratings\n",
    "\n",
    "**Challenge**: How may rows have a NaN value (not-a-number) in the Ratings column? Create DataFrame called `df_apps_clean` that does not include these rows. "
   ]
  },
  {
   "cell_type": "code",
   "metadata": {
    "id": "grcP1IOZn1Wv"
   },
   "source": [
    "nan_rows = df_apps[df_apps.Rating.isna()]\n",
    "print(nan_rows.shape)\n",
    "nan_rows.head()\n"
   ],
   "execution_count": 8,
   "outputs": [
    {
     "name": "stdout",
     "output_type": "stream",
     "text": [
      "(1474, 10)\n"
     ]
    },
    {
     "data": {
      "text/plain": "                                            App         Category  Rating  \\\n0                       Ak Parti Yardım Toplama           SOCIAL     NaN   \n1                    Ain Arabic Kids Alif Ba ta           FAMILY     NaN   \n2  Popsicle Launcher for Android P 9.0 launcher  PERSONALIZATION     NaN   \n3                     Command & Conquer: Rivals           FAMILY     NaN   \n4                                    CX Network         BUSINESS     NaN   \n\n   Reviews  Size_MBs Installs  Type   Price Content_Rating           Genres  \n0        0      8.70        0  Paid  $13.99           Teen           Social  \n1        0     33.00        0  Paid   $2.99       Everyone        Education  \n2        0      5.50        0  Paid   $1.49       Everyone  Personalization  \n3        0     19.00        0   NaN       0   Everyone 10+         Strategy  \n4        0     10.00        0  Free       0       Everyone         Business  ",
      "text/html": "<div>\n<style scoped>\n    .dataframe tbody tr th:only-of-type {\n        vertical-align: middle;\n    }\n\n    .dataframe tbody tr th {\n        vertical-align: top;\n    }\n\n    .dataframe thead th {\n        text-align: right;\n    }\n</style>\n<table border=\"1\" class=\"dataframe\">\n  <thead>\n    <tr style=\"text-align: right;\">\n      <th></th>\n      <th>App</th>\n      <th>Category</th>\n      <th>Rating</th>\n      <th>Reviews</th>\n      <th>Size_MBs</th>\n      <th>Installs</th>\n      <th>Type</th>\n      <th>Price</th>\n      <th>Content_Rating</th>\n      <th>Genres</th>\n    </tr>\n  </thead>\n  <tbody>\n    <tr>\n      <th>0</th>\n      <td>Ak Parti Yardım Toplama</td>\n      <td>SOCIAL</td>\n      <td>NaN</td>\n      <td>0</td>\n      <td>8.70</td>\n      <td>0</td>\n      <td>Paid</td>\n      <td>$13.99</td>\n      <td>Teen</td>\n      <td>Social</td>\n    </tr>\n    <tr>\n      <th>1</th>\n      <td>Ain Arabic Kids Alif Ba ta</td>\n      <td>FAMILY</td>\n      <td>NaN</td>\n      <td>0</td>\n      <td>33.00</td>\n      <td>0</td>\n      <td>Paid</td>\n      <td>$2.99</td>\n      <td>Everyone</td>\n      <td>Education</td>\n    </tr>\n    <tr>\n      <th>2</th>\n      <td>Popsicle Launcher for Android P 9.0 launcher</td>\n      <td>PERSONALIZATION</td>\n      <td>NaN</td>\n      <td>0</td>\n      <td>5.50</td>\n      <td>0</td>\n      <td>Paid</td>\n      <td>$1.49</td>\n      <td>Everyone</td>\n      <td>Personalization</td>\n    </tr>\n    <tr>\n      <th>3</th>\n      <td>Command &amp; Conquer: Rivals</td>\n      <td>FAMILY</td>\n      <td>NaN</td>\n      <td>0</td>\n      <td>19.00</td>\n      <td>0</td>\n      <td>NaN</td>\n      <td>0</td>\n      <td>Everyone 10+</td>\n      <td>Strategy</td>\n    </tr>\n    <tr>\n      <th>4</th>\n      <td>CX Network</td>\n      <td>BUSINESS</td>\n      <td>NaN</td>\n      <td>0</td>\n      <td>10.00</td>\n      <td>0</td>\n      <td>Free</td>\n      <td>0</td>\n      <td>Everyone</td>\n      <td>Business</td>\n    </tr>\n  </tbody>\n</table>\n</div>"
     },
     "execution_count": 8,
     "metadata": {},
     "output_type": "execute_result"
    }
   ]
  },
  {
   "cell_type": "code",
   "metadata": {
    "id": "IbQnnPaUn1Pw"
   },
   "source": [
    "df_apps_clean = df_apps.dropna()\n",
    "df_apps_clean.shape"
   ],
   "execution_count": 9,
   "outputs": [
    {
     "data": {
      "text/plain": "(9367, 10)"
     },
     "execution_count": 9,
     "metadata": {},
     "output_type": "execute_result"
    }
   ]
  },
  {
   "cell_type": "markdown",
   "metadata": {
    "id": "pD26SWlxdiUV"
   },
   "source": [
    "### Find and Remove Duplicates\n",
    "\n",
    "**Challenge**: Are there any duplicates in data? Check for duplicates using the [.duplicated()](https://pandas.pydata.org/pandas-docs/stable/reference/api/pandas.DataFrame.duplicated.html) function. How many entries can you find for the \"Instagram\" app? Use [.drop_duplicates()](https://pandas.pydata.org/pandas-docs/stable/reference/api/pandas.DataFrame.drop_duplicates.html) to remove any duplicates from `df_apps_clean`. \n"
   ]
  },
  {
   "cell_type": "code",
   "metadata": {
    "id": "lE7X6KG3n5pR"
   },
   "source": [
    "duplicated_rows = df_apps_clean[df_apps_clean.duplicated()]"
   ],
   "execution_count": 10,
   "outputs": []
  },
  {
   "cell_type": "code",
   "metadata": {
    "id": "GK2rP7wgn53-"
   },
   "source": [
    "print(duplicated_rows.shape)"
   ],
   "execution_count": 11,
   "outputs": [
    {
     "name": "stdout",
     "output_type": "stream",
     "text": [
      "(476, 10)\n"
     ]
    }
   ]
  },
  {
   "cell_type": "code",
   "metadata": {
    "id": "Wtt09kiRn6GS"
   },
   "source": [
    "duplicated_rows.head()"
   ],
   "execution_count": 12,
   "outputs": [
    {
     "data": {
      "text/plain": "                                             App Category  Rating  Reviews  \\\n946                       420 BZ Budeze Delivery  MEDICAL    5.00        2   \n1133                                 MouseMingle   DATING    2.70        3   \n1196  Cardiac diagnosis (heart rate, arrhythmia)  MEDICAL    4.40        8   \n1231                                Sway Medical  MEDICAL    5.00        3   \n1247              Chat Kids - Chat Room For Kids   DATING    4.70        6   \n\n      Size_MBs Installs  Type   Price Content_Rating   Genres  \n946      11.00      100  Free       0     Mature 17+  Medical  \n1133      3.90      100  Free       0     Mature 17+   Dating  \n1196      6.50      100  Paid  $12.99       Everyone  Medical  \n1231     22.00      100  Free       0       Everyone  Medical  \n1247      4.90      100  Free       0     Mature 17+   Dating  ",
      "text/html": "<div>\n<style scoped>\n    .dataframe tbody tr th:only-of-type {\n        vertical-align: middle;\n    }\n\n    .dataframe tbody tr th {\n        vertical-align: top;\n    }\n\n    .dataframe thead th {\n        text-align: right;\n    }\n</style>\n<table border=\"1\" class=\"dataframe\">\n  <thead>\n    <tr style=\"text-align: right;\">\n      <th></th>\n      <th>App</th>\n      <th>Category</th>\n      <th>Rating</th>\n      <th>Reviews</th>\n      <th>Size_MBs</th>\n      <th>Installs</th>\n      <th>Type</th>\n      <th>Price</th>\n      <th>Content_Rating</th>\n      <th>Genres</th>\n    </tr>\n  </thead>\n  <tbody>\n    <tr>\n      <th>946</th>\n      <td>420 BZ Budeze Delivery</td>\n      <td>MEDICAL</td>\n      <td>5.00</td>\n      <td>2</td>\n      <td>11.00</td>\n      <td>100</td>\n      <td>Free</td>\n      <td>0</td>\n      <td>Mature 17+</td>\n      <td>Medical</td>\n    </tr>\n    <tr>\n      <th>1133</th>\n      <td>MouseMingle</td>\n      <td>DATING</td>\n      <td>2.70</td>\n      <td>3</td>\n      <td>3.90</td>\n      <td>100</td>\n      <td>Free</td>\n      <td>0</td>\n      <td>Mature 17+</td>\n      <td>Dating</td>\n    </tr>\n    <tr>\n      <th>1196</th>\n      <td>Cardiac diagnosis (heart rate, arrhythmia)</td>\n      <td>MEDICAL</td>\n      <td>4.40</td>\n      <td>8</td>\n      <td>6.50</td>\n      <td>100</td>\n      <td>Paid</td>\n      <td>$12.99</td>\n      <td>Everyone</td>\n      <td>Medical</td>\n    </tr>\n    <tr>\n      <th>1231</th>\n      <td>Sway Medical</td>\n      <td>MEDICAL</td>\n      <td>5.00</td>\n      <td>3</td>\n      <td>22.00</td>\n      <td>100</td>\n      <td>Free</td>\n      <td>0</td>\n      <td>Everyone</td>\n      <td>Medical</td>\n    </tr>\n    <tr>\n      <th>1247</th>\n      <td>Chat Kids - Chat Room For Kids</td>\n      <td>DATING</td>\n      <td>4.70</td>\n      <td>6</td>\n      <td>4.90</td>\n      <td>100</td>\n      <td>Free</td>\n      <td>0</td>\n      <td>Mature 17+</td>\n      <td>Dating</td>\n    </tr>\n  </tbody>\n</table>\n</div>"
     },
     "execution_count": 12,
     "metadata": {},
     "output_type": "execute_result"
    }
   ]
  },
  {
   "cell_type": "code",
   "metadata": {
    "id": "30yZCwtKn5xC"
   },
   "source": [
    "df_apps_clean[df_apps_clean.App == 'Instagram']"
   ],
   "execution_count": 13,
   "outputs": [
    {
     "data": {
      "text/plain": "             App Category  Rating   Reviews  Size_MBs       Installs  Type  \\\n10806  Instagram   SOCIAL    4.50  66577313      5.30  1,000,000,000  Free   \n10808  Instagram   SOCIAL    4.50  66577446      5.30  1,000,000,000  Free   \n10809  Instagram   SOCIAL    4.50  66577313      5.30  1,000,000,000  Free   \n10810  Instagram   SOCIAL    4.50  66509917      5.30  1,000,000,000  Free   \n\n      Price Content_Rating  Genres  \n10806     0           Teen  Social  \n10808     0           Teen  Social  \n10809     0           Teen  Social  \n10810     0           Teen  Social  ",
      "text/html": "<div>\n<style scoped>\n    .dataframe tbody tr th:only-of-type {\n        vertical-align: middle;\n    }\n\n    .dataframe tbody tr th {\n        vertical-align: top;\n    }\n\n    .dataframe thead th {\n        text-align: right;\n    }\n</style>\n<table border=\"1\" class=\"dataframe\">\n  <thead>\n    <tr style=\"text-align: right;\">\n      <th></th>\n      <th>App</th>\n      <th>Category</th>\n      <th>Rating</th>\n      <th>Reviews</th>\n      <th>Size_MBs</th>\n      <th>Installs</th>\n      <th>Type</th>\n      <th>Price</th>\n      <th>Content_Rating</th>\n      <th>Genres</th>\n    </tr>\n  </thead>\n  <tbody>\n    <tr>\n      <th>10806</th>\n      <td>Instagram</td>\n      <td>SOCIAL</td>\n      <td>4.50</td>\n      <td>66577313</td>\n      <td>5.30</td>\n      <td>1,000,000,000</td>\n      <td>Free</td>\n      <td>0</td>\n      <td>Teen</td>\n      <td>Social</td>\n    </tr>\n    <tr>\n      <th>10808</th>\n      <td>Instagram</td>\n      <td>SOCIAL</td>\n      <td>4.50</td>\n      <td>66577446</td>\n      <td>5.30</td>\n      <td>1,000,000,000</td>\n      <td>Free</td>\n      <td>0</td>\n      <td>Teen</td>\n      <td>Social</td>\n    </tr>\n    <tr>\n      <th>10809</th>\n      <td>Instagram</td>\n      <td>SOCIAL</td>\n      <td>4.50</td>\n      <td>66577313</td>\n      <td>5.30</td>\n      <td>1,000,000,000</td>\n      <td>Free</td>\n      <td>0</td>\n      <td>Teen</td>\n      <td>Social</td>\n    </tr>\n    <tr>\n      <th>10810</th>\n      <td>Instagram</td>\n      <td>SOCIAL</td>\n      <td>4.50</td>\n      <td>66509917</td>\n      <td>5.30</td>\n      <td>1,000,000,000</td>\n      <td>Free</td>\n      <td>0</td>\n      <td>Teen</td>\n      <td>Social</td>\n    </tr>\n  </tbody>\n</table>\n</div>"
     },
     "execution_count": 13,
     "metadata": {},
     "output_type": "execute_result"
    }
   ]
  },
  {
   "cell_type": "code",
   "metadata": {
    "id": "AagS_wgWn5ib"
   },
   "source": [
    "df_apps_clean = df_apps_clean.drop_duplicates(subset=['App', 'Type', 'Price'])\n",
    "df_apps_clean[df_apps_clean.App == 'Instagram']"
   ],
   "execution_count": 14,
   "outputs": [
    {
     "data": {
      "text/plain": "             App Category  Rating   Reviews  Size_MBs       Installs  Type  \\\n10806  Instagram   SOCIAL    4.50  66577313      5.30  1,000,000,000  Free   \n\n      Price Content_Rating  Genres  \n10806     0           Teen  Social  ",
      "text/html": "<div>\n<style scoped>\n    .dataframe tbody tr th:only-of-type {\n        vertical-align: middle;\n    }\n\n    .dataframe tbody tr th {\n        vertical-align: top;\n    }\n\n    .dataframe thead th {\n        text-align: right;\n    }\n</style>\n<table border=\"1\" class=\"dataframe\">\n  <thead>\n    <tr style=\"text-align: right;\">\n      <th></th>\n      <th>App</th>\n      <th>Category</th>\n      <th>Rating</th>\n      <th>Reviews</th>\n      <th>Size_MBs</th>\n      <th>Installs</th>\n      <th>Type</th>\n      <th>Price</th>\n      <th>Content_Rating</th>\n      <th>Genres</th>\n    </tr>\n  </thead>\n  <tbody>\n    <tr>\n      <th>10806</th>\n      <td>Instagram</td>\n      <td>SOCIAL</td>\n      <td>4.50</td>\n      <td>66577313</td>\n      <td>5.30</td>\n      <td>1,000,000,000</td>\n      <td>Free</td>\n      <td>0</td>\n      <td>Teen</td>\n      <td>Social</td>\n    </tr>\n  </tbody>\n</table>\n</div>"
     },
     "execution_count": 14,
     "metadata": {},
     "output_type": "execute_result"
    }
   ]
  },
  {
   "cell_type": "markdown",
   "metadata": {
    "id": "GJrM69CfdiUh"
   },
   "source": [
    "# Find Highest Rated Apps\n",
    "\n",
    "**Challenge**: Identify which apps are the highest rated. What problem might you encounter if you rely exclusively on ratings alone to determine the quality of an app?"
   ]
  },
  {
   "cell_type": "code",
   "metadata": {
    "id": "rp7vFHBMn7st"
   },
   "source": [
    "df_apps_clean.sort_values('Rating', ascending=False).head()"
   ],
   "execution_count": 15,
   "outputs": [
    {
     "data": {
      "text/plain": "                      App     Category  Rating  Reviews  Size_MBs Installs  \\\n21    KBA-EZ Health Guide      MEDICAL    5.00        4     25.00        1   \n1230         Sway Medical      MEDICAL    5.00        3     22.00      100   \n1227    AJ Men's Grooming    LIFESTYLE    5.00        2     22.00      100   \n1224       FK Dedinje BGD       SPORTS    5.00       36      2.60      100   \n1223      CB VIDEO VISION  PHOTOGRAPHY    5.00       13      2.60      100   \n\n      Type Price Content_Rating       Genres  \n21    Free     0       Everyone      Medical  \n1230  Free     0       Everyone      Medical  \n1227  Free     0       Everyone    Lifestyle  \n1224  Free     0       Everyone       Sports  \n1223  Free     0       Everyone  Photography  ",
      "text/html": "<div>\n<style scoped>\n    .dataframe tbody tr th:only-of-type {\n        vertical-align: middle;\n    }\n\n    .dataframe tbody tr th {\n        vertical-align: top;\n    }\n\n    .dataframe thead th {\n        text-align: right;\n    }\n</style>\n<table border=\"1\" class=\"dataframe\">\n  <thead>\n    <tr style=\"text-align: right;\">\n      <th></th>\n      <th>App</th>\n      <th>Category</th>\n      <th>Rating</th>\n      <th>Reviews</th>\n      <th>Size_MBs</th>\n      <th>Installs</th>\n      <th>Type</th>\n      <th>Price</th>\n      <th>Content_Rating</th>\n      <th>Genres</th>\n    </tr>\n  </thead>\n  <tbody>\n    <tr>\n      <th>21</th>\n      <td>KBA-EZ Health Guide</td>\n      <td>MEDICAL</td>\n      <td>5.00</td>\n      <td>4</td>\n      <td>25.00</td>\n      <td>1</td>\n      <td>Free</td>\n      <td>0</td>\n      <td>Everyone</td>\n      <td>Medical</td>\n    </tr>\n    <tr>\n      <th>1230</th>\n      <td>Sway Medical</td>\n      <td>MEDICAL</td>\n      <td>5.00</td>\n      <td>3</td>\n      <td>22.00</td>\n      <td>100</td>\n      <td>Free</td>\n      <td>0</td>\n      <td>Everyone</td>\n      <td>Medical</td>\n    </tr>\n    <tr>\n      <th>1227</th>\n      <td>AJ Men's Grooming</td>\n      <td>LIFESTYLE</td>\n      <td>5.00</td>\n      <td>2</td>\n      <td>22.00</td>\n      <td>100</td>\n      <td>Free</td>\n      <td>0</td>\n      <td>Everyone</td>\n      <td>Lifestyle</td>\n    </tr>\n    <tr>\n      <th>1224</th>\n      <td>FK Dedinje BGD</td>\n      <td>SPORTS</td>\n      <td>5.00</td>\n      <td>36</td>\n      <td>2.60</td>\n      <td>100</td>\n      <td>Free</td>\n      <td>0</td>\n      <td>Everyone</td>\n      <td>Sports</td>\n    </tr>\n    <tr>\n      <th>1223</th>\n      <td>CB VIDEO VISION</td>\n      <td>PHOTOGRAPHY</td>\n      <td>5.00</td>\n      <td>13</td>\n      <td>2.60</td>\n      <td>100</td>\n      <td>Free</td>\n      <td>0</td>\n      <td>Everyone</td>\n      <td>Photography</td>\n    </tr>\n  </tbody>\n</table>\n</div>"
     },
     "execution_count": 15,
     "metadata": {},
     "output_type": "execute_result"
    }
   ]
  },
  {
   "cell_type": "markdown",
   "metadata": {
    "id": "28o1Tro4diUi"
   },
   "source": [
    "# Find 5 Largest Apps in terms of Size (MBs)\n",
    "\n",
    "**Challenge**: What's the size in megabytes (MB) of the largest Android apps in the Google Play Store. Based on the data, do you think there could be limit in place or can developers make apps as large as they please? "
   ]
  },
  {
   "cell_type": "code",
   "metadata": {
    "id": "n5r0pJCOn9Vu"
   },
   "source": [
    "df_apps_clean.sort_values('Size_MBs', ascending=False).head()"
   ],
   "execution_count": 16,
   "outputs": [
    {
     "data": {
      "text/plain": "                                  App            Category  Rating  Reviews  \\\n9942   Talking Babsy Baby: Baby Games           LIFESTYLE    4.00   140995   \n10687          Hungry Shark Evolution                GAME    4.50  6074334   \n9943            Miami crime simulator                GAME    4.00   254518   \n9944     Gangster Town: Vice District              FAMILY    4.30    65146   \n3144                       Vi Trainer  HEALTH_AND_FITNESS    3.60      124   \n\n       Size_MBs     Installs  Type Price Content_Rating  \\\n9942     100.00   10,000,000  Free     0       Everyone   \n10687    100.00  100,000,000  Free     0           Teen   \n9943     100.00   10,000,000  Free     0     Mature 17+   \n9944     100.00   10,000,000  Free     0     Mature 17+   \n3144     100.00        5,000  Free     0       Everyone   \n\n                       Genres  \n9942   Lifestyle;Pretend Play  \n10687                  Arcade  \n9943                   Action  \n9944               Simulation  \n3144         Health & Fitness  ",
      "text/html": "<div>\n<style scoped>\n    .dataframe tbody tr th:only-of-type {\n        vertical-align: middle;\n    }\n\n    .dataframe tbody tr th {\n        vertical-align: top;\n    }\n\n    .dataframe thead th {\n        text-align: right;\n    }\n</style>\n<table border=\"1\" class=\"dataframe\">\n  <thead>\n    <tr style=\"text-align: right;\">\n      <th></th>\n      <th>App</th>\n      <th>Category</th>\n      <th>Rating</th>\n      <th>Reviews</th>\n      <th>Size_MBs</th>\n      <th>Installs</th>\n      <th>Type</th>\n      <th>Price</th>\n      <th>Content_Rating</th>\n      <th>Genres</th>\n    </tr>\n  </thead>\n  <tbody>\n    <tr>\n      <th>9942</th>\n      <td>Talking Babsy Baby: Baby Games</td>\n      <td>LIFESTYLE</td>\n      <td>4.00</td>\n      <td>140995</td>\n      <td>100.00</td>\n      <td>10,000,000</td>\n      <td>Free</td>\n      <td>0</td>\n      <td>Everyone</td>\n      <td>Lifestyle;Pretend Play</td>\n    </tr>\n    <tr>\n      <th>10687</th>\n      <td>Hungry Shark Evolution</td>\n      <td>GAME</td>\n      <td>4.50</td>\n      <td>6074334</td>\n      <td>100.00</td>\n      <td>100,000,000</td>\n      <td>Free</td>\n      <td>0</td>\n      <td>Teen</td>\n      <td>Arcade</td>\n    </tr>\n    <tr>\n      <th>9943</th>\n      <td>Miami crime simulator</td>\n      <td>GAME</td>\n      <td>4.00</td>\n      <td>254518</td>\n      <td>100.00</td>\n      <td>10,000,000</td>\n      <td>Free</td>\n      <td>0</td>\n      <td>Mature 17+</td>\n      <td>Action</td>\n    </tr>\n    <tr>\n      <th>9944</th>\n      <td>Gangster Town: Vice District</td>\n      <td>FAMILY</td>\n      <td>4.30</td>\n      <td>65146</td>\n      <td>100.00</td>\n      <td>10,000,000</td>\n      <td>Free</td>\n      <td>0</td>\n      <td>Mature 17+</td>\n      <td>Simulation</td>\n    </tr>\n    <tr>\n      <th>3144</th>\n      <td>Vi Trainer</td>\n      <td>HEALTH_AND_FITNESS</td>\n      <td>3.60</td>\n      <td>124</td>\n      <td>100.00</td>\n      <td>5,000</td>\n      <td>Free</td>\n      <td>0</td>\n      <td>Everyone</td>\n      <td>Health &amp; Fitness</td>\n    </tr>\n  </tbody>\n</table>\n</div>"
     },
     "execution_count": 16,
     "metadata": {},
     "output_type": "execute_result"
    }
   ]
  },
  {
   "cell_type": "markdown",
   "metadata": {
    "id": "C3gTckh7diUk"
   },
   "source": [
    "# Find the 5 App with Most Reviews\n",
    "\n",
    "**Challenge**: Which apps have the highest number of reviews? Are there any paid apps among the top 50?"
   ]
  },
  {
   "cell_type": "code",
   "metadata": {
    "id": "TLt98G0Sn_De"
   },
   "source": [
    "df_apps_clean.sort_values('Reviews', ascending=False).head()"
   ],
   "execution_count": 17,
   "outputs": [
    {
     "data": {
      "text/plain": "                                            App       Category  Rating  \\\n10805                                  Facebook         SOCIAL    4.10   \n10785                        WhatsApp Messenger  COMMUNICATION    4.40   \n10806                                 Instagram         SOCIAL    4.50   \n10784  Messenger – Text and Video Chat for Free  COMMUNICATION    4.00   \n10650                            Clash of Clans           GAME    4.60   \n\n        Reviews  Size_MBs       Installs  Type Price Content_Rating  \\\n10805  78158306      5.30  1,000,000,000  Free     0           Teen   \n10785  69119316      3.50  1,000,000,000  Free     0       Everyone   \n10806  66577313      5.30  1,000,000,000  Free     0           Teen   \n10784  56642847      3.50  1,000,000,000  Free     0       Everyone   \n10650  44891723     98.00    100,000,000  Free     0   Everyone 10+   \n\n              Genres  \n10805         Social  \n10785  Communication  \n10806         Social  \n10784  Communication  \n10650       Strategy  ",
      "text/html": "<div>\n<style scoped>\n    .dataframe tbody tr th:only-of-type {\n        vertical-align: middle;\n    }\n\n    .dataframe tbody tr th {\n        vertical-align: top;\n    }\n\n    .dataframe thead th {\n        text-align: right;\n    }\n</style>\n<table border=\"1\" class=\"dataframe\">\n  <thead>\n    <tr style=\"text-align: right;\">\n      <th></th>\n      <th>App</th>\n      <th>Category</th>\n      <th>Rating</th>\n      <th>Reviews</th>\n      <th>Size_MBs</th>\n      <th>Installs</th>\n      <th>Type</th>\n      <th>Price</th>\n      <th>Content_Rating</th>\n      <th>Genres</th>\n    </tr>\n  </thead>\n  <tbody>\n    <tr>\n      <th>10805</th>\n      <td>Facebook</td>\n      <td>SOCIAL</td>\n      <td>4.10</td>\n      <td>78158306</td>\n      <td>5.30</td>\n      <td>1,000,000,000</td>\n      <td>Free</td>\n      <td>0</td>\n      <td>Teen</td>\n      <td>Social</td>\n    </tr>\n    <tr>\n      <th>10785</th>\n      <td>WhatsApp Messenger</td>\n      <td>COMMUNICATION</td>\n      <td>4.40</td>\n      <td>69119316</td>\n      <td>3.50</td>\n      <td>1,000,000,000</td>\n      <td>Free</td>\n      <td>0</td>\n      <td>Everyone</td>\n      <td>Communication</td>\n    </tr>\n    <tr>\n      <th>10806</th>\n      <td>Instagram</td>\n      <td>SOCIAL</td>\n      <td>4.50</td>\n      <td>66577313</td>\n      <td>5.30</td>\n      <td>1,000,000,000</td>\n      <td>Free</td>\n      <td>0</td>\n      <td>Teen</td>\n      <td>Social</td>\n    </tr>\n    <tr>\n      <th>10784</th>\n      <td>Messenger – Text and Video Chat for Free</td>\n      <td>COMMUNICATION</td>\n      <td>4.00</td>\n      <td>56642847</td>\n      <td>3.50</td>\n      <td>1,000,000,000</td>\n      <td>Free</td>\n      <td>0</td>\n      <td>Everyone</td>\n      <td>Communication</td>\n    </tr>\n    <tr>\n      <th>10650</th>\n      <td>Clash of Clans</td>\n      <td>GAME</td>\n      <td>4.60</td>\n      <td>44891723</td>\n      <td>98.00</td>\n      <td>100,000,000</td>\n      <td>Free</td>\n      <td>0</td>\n      <td>Everyone 10+</td>\n      <td>Strategy</td>\n    </tr>\n  </tbody>\n</table>\n</div>"
     },
     "execution_count": 17,
     "metadata": {},
     "output_type": "execute_result"
    }
   ]
  },
  {
   "cell_type": "markdown",
   "metadata": {
    "id": "BFoRqpezjebe"
   },
   "source": [
    "# Plotly Pie and Donut Charts - Visualise Categorical Data: Content Ratings"
   ]
  },
  {
   "cell_type": "code",
   "metadata": {
    "id": "c0IIxNGnoFKM"
   },
   "source": [
    ""
   ],
   "execution_count": 15,
   "outputs": []
  },
  {
   "cell_type": "code",
   "metadata": {
    "id": "TSiV6ZkjoFVg"
   },
   "source": [
    ""
   ],
   "execution_count": 15,
   "outputs": []
  },
  {
   "cell_type": "code",
   "metadata": {
    "id": "7kil2mdfoFOr"
   },
   "source": [
    ""
   ],
   "execution_count": 15,
   "outputs": []
  },
  {
   "cell_type": "code",
   "metadata": {
    "id": "6ZaHYNy2oFEE"
   },
   "source": [
    ""
   ],
   "execution_count": 15,
   "outputs": []
  },
  {
   "cell_type": "markdown",
   "metadata": {
    "id": "RoPpW37xdiUm"
   },
   "source": [
    "# Numeric Type Conversion: Examine the Number of Installs\n",
    "\n",
    "**Challenge**: How many apps had over 1 billion (that's right - BILLION) installations? How many apps just had a single install? \n",
    "\n",
    "Check the datatype of the Installs column.\n",
    "\n",
    "Count the number of apps at each level of installations. \n",
    "\n",
    "Convert the number of installations (the Installs column) to a numeric data type. Hint: this is a 2-step process. You'll have make sure you remove non-numeric characters first. "
   ]
  },
  {
   "cell_type": "code",
   "metadata": {
    "id": "uTNyWsPboJLq"
   },
   "source": [
    ""
   ],
   "execution_count": 15,
   "outputs": []
  },
  {
   "cell_type": "code",
   "metadata": {
    "id": "yzR49fYcoJRI"
   },
   "source": [
    ""
   ],
   "execution_count": 15,
   "outputs": []
  },
  {
   "cell_type": "code",
   "metadata": {
    "id": "cFjptR-JoJOE"
   },
   "source": [
    ""
   ],
   "execution_count": 15,
   "outputs": []
  },
  {
   "cell_type": "code",
   "metadata": {
    "id": "8AMmxKHgoJGT"
   },
   "source": [
    ""
   ],
   "execution_count": 15,
   "outputs": []
  },
  {
   "cell_type": "markdown",
   "metadata": {
    "id": "7T4sfNpFdiUv"
   },
   "source": [
    "# Find the Most Expensive Apps, Filter out the Junk, and Calculate a (ballpark) Sales Revenue Estimate\n",
    "\n",
    "Let's examine the Price column more closely.\n",
    "\n",
    "**Challenge**: Convert the price column to numeric data. Then investigate the top 20 most expensive apps in the dataset.\n",
    "\n",
    "Remove all apps that cost more than $250 from the `df_apps_clean` DataFrame.\n",
    "\n",
    "Add a column called 'Revenue_Estimate' to the DataFrame. This column should hold the price of the app times the number of installs. What are the top 10 highest grossing paid apps according to this estimate? Out of the top 10 highest grossing paid apps, how many are games?\n"
   ]
  },
  {
   "cell_type": "code",
   "metadata": {
    "id": "CqhX2WCJoQEp"
   },
   "source": [
    ""
   ],
   "execution_count": 15,
   "outputs": []
  },
  {
   "cell_type": "markdown",
   "metadata": {
    "id": "Rgposh-CdiU4"
   },
   "source": [
    "### The most expensive apps sub $250"
   ]
  },
  {
   "cell_type": "code",
   "metadata": {
    "id": "c8_n8z8XoUML"
   },
   "source": [
    ""
   ],
   "execution_count": 15,
   "outputs": []
  },
  {
   "cell_type": "markdown",
   "metadata": {
    "id": "VGu85CLb4OOH"
   },
   "source": [
    "### Highest Grossing Paid Apps (ballpark estimate)"
   ]
  },
  {
   "cell_type": "code",
   "metadata": {
    "id": "3mDi45iIoVzE"
   },
   "source": [
    ""
   ],
   "execution_count": 15,
   "outputs": []
  },
  {
   "cell_type": "markdown",
   "metadata": {
    "dc": {
     "key": "18"
    },
    "run_control": {
     "frozen": true
    },
    "tags": [
     "context"
    ],
    "id": "lvpM2MyTdiU6"
   },
   "source": [
    "# Plotly Bar Charts & Scatter Plots: Analysing App Categories"
   ]
  },
  {
   "cell_type": "code",
   "metadata": {
    "id": "3L6hK0aLoYxY"
   },
   "source": [
    ""
   ],
   "execution_count": 15,
   "outputs": []
  },
  {
   "cell_type": "code",
   "metadata": {
    "id": "mg50Ts9joYz1"
   },
   "source": [
    ""
   ],
   "execution_count": 15,
   "outputs": []
  },
  {
   "cell_type": "code",
   "metadata": {
    "id": "WZZizlGjoYfn"
   },
   "source": [
    ""
   ],
   "execution_count": 15,
   "outputs": []
  },
  {
   "cell_type": "markdown",
   "metadata": {
    "id": "0tTurR7qdiU9"
   },
   "source": [
    "### Vertical Bar Chart - Highest Competition (Number of Apps)"
   ]
  },
  {
   "cell_type": "code",
   "metadata": {
    "id": "SFSMH00AoaMB"
   },
   "source": [
    ""
   ],
   "execution_count": 15,
   "outputs": []
  },
  {
   "cell_type": "markdown",
   "metadata": {
    "id": "57mowetLdiU_"
   },
   "source": [
    "### Horizontal Bar Chart - Most Popular Categories (Highest Downloads)"
   ]
  },
  {
   "cell_type": "code",
   "metadata": {
    "id": "zHO7eTJmocLm"
   },
   "source": [
    ""
   ],
   "execution_count": 15,
   "outputs": []
  },
  {
   "cell_type": "code",
   "metadata": {
    "id": "h7aUARLtocCy"
   },
   "source": [
    ""
   ],
   "execution_count": 15,
   "outputs": []
  },
  {
   "cell_type": "markdown",
   "metadata": {
    "id": "Uxk24qMk8vrz"
   },
   "source": [
    "### Category Concentration - Downloads vs. Competition\n",
    "\n",
    "**Challenge**: \n",
    "* First, create a DataFrame that has the number of apps in one column and the number of installs in another:\n",
    "\n",
    "<img src=https://imgur.com/uQRSlXi.png width=\"350\">\n",
    "\n",
    "* Then use the [plotly express examples from the documentation](https://plotly.com/python/line-and-scatter/) alongside the [.scatter() API reference](https://plotly.com/python-api-reference/generated/plotly.express.scatter.html)to create scatter plot that looks like this. \n",
    "\n",
    "<img src=https://imgur.com/cHsqh6a.png>\n",
    "\n",
    "*Hint*: Use the size, hover_name and color parameters in .scatter(). To scale the yaxis, call .update_layout() and specify that the yaxis should be on a log-scale like so: yaxis=dict(type='log') "
   ]
  },
  {
   "cell_type": "code",
   "metadata": {
    "id": "tVvGPDY7oe5A"
   },
   "source": [
    ""
   ],
   "execution_count": 15,
   "outputs": []
  },
  {
   "cell_type": "markdown",
   "metadata": {
    "id": "dmXDF75WdiVC"
   },
   "source": [
    "# Extracting Nested Data from a Column\n",
    "\n",
    "**Challenge**: How many different types of genres are there? Can an app belong to more than one genre? Check what happens when you use .value_counts() on a column with nested values? See if you can work around this problem by using the .split() function and the DataFrame's [.stack() method](https://pandas.pydata.org/pandas-docs/stable/reference/api/pandas.DataFrame.stack.html). \n"
   ]
  },
  {
   "cell_type": "code",
   "metadata": {
    "id": "3Lo69kS6ogdm"
   },
   "source": [
    ""
   ],
   "execution_count": 15,
   "outputs": []
  },
  {
   "cell_type": "markdown",
   "metadata": {
    "id": "F3zaKvfydiVI"
   },
   "source": [
    "# Colour Scales in Plotly Charts - Competition in Genres"
   ]
  },
  {
   "cell_type": "markdown",
   "metadata": {
    "id": "Ucw6RT59diVK"
   },
   "source": [
    "**Challenge**: Can you create this chart with the Series containing the genre data? \n",
    "\n",
    "<img src=https://imgur.com/DbcoQli.png width=400>\n",
    "\n",
    "Try experimenting with the built in colour scales in Plotly. You can find a full list [here](https://plotly.com/python/builtin-colorscales/). \n",
    "\n",
    "* Find a way to set the colour scale using the color_continuous_scale parameter. \n",
    "* Find a way to make the color axis disappear by using coloraxis_showscale. "
   ]
  },
  {
   "cell_type": "code",
   "metadata": {
    "id": "c5xbfMgxojoA"
   },
   "source": [
    ""
   ],
   "execution_count": 15,
   "outputs": []
  },
  {
   "cell_type": "markdown",
   "metadata": {
    "id": "BIWG_10PyIzL"
   },
   "source": [
    "# Grouped Bar Charts: Free vs. Paid Apps per Category"
   ]
  },
  {
   "cell_type": "code",
   "metadata": {
    "id": "ANMs7xywolDH"
   },
   "source": [
    ""
   ],
   "execution_count": 15,
   "outputs": []
  },
  {
   "cell_type": "markdown",
   "metadata": {
    "id": "wmRXm0TW1e_Z"
   },
   "source": [
    "**Challenge**: Use the plotly express bar [chart examples](https://plotly.com/python/bar-charts/#bar-chart-with-sorted-or-ordered-categories) and the [.bar() API reference](https://plotly.com/python-api-reference/generated/plotly.express.bar.html#plotly.express.bar) to create this bar chart: \n",
    "\n",
    "<img src=https://imgur.com/LE0XCxA.png>\n",
    "\n",
    "You'll want to use the `df_free_vs_paid` DataFrame that you created above that has the total number of free and paid apps per category. \n",
    "\n",
    "See if you can figure out how to get the look above by changing the `categoryorder` to 'total descending' as outlined in the documentation here [here](https://plotly.com/python/categorical-axes/#automatically-sorting-categories-by-name-or-total-value). "
   ]
  },
  {
   "cell_type": "code",
   "metadata": {
    "id": "tqOntrS7onGt"
   },
   "source": [
    ""
   ],
   "execution_count": 15,
   "outputs": []
  },
  {
   "cell_type": "markdown",
   "metadata": {
    "id": "nbYh2tU-VZ-i"
   },
   "source": [
    "# Plotly Box Plots: Lost Downloads for Paid Apps\n",
    "\n",
    "**Challenge**: Create a box plot that shows the number of Installs for free versus paid apps. How does the median number of installations compare? Is the difference large or small?\n",
    "\n",
    "Use the [Box Plots Guide](https://plotly.com/python/box-plots/) and the [.box API reference](https://plotly.com/python-api-reference/generated/plotly.express.box.html) to create the following chart. \n",
    "\n",
    "<img src=https://imgur.com/uVsECT3.png>\n"
   ]
  },
  {
   "cell_type": "code",
   "metadata": {
    "id": "Jip3hMZ7oqLS"
   },
   "source": [
    ""
   ],
   "execution_count": 15,
   "outputs": []
  },
  {
   "cell_type": "markdown",
   "metadata": {
    "id": "Xi2NaEBPVNrP"
   },
   "source": [
    "# Plotly Box Plots: Revenue by App Category\n",
    "\n",
    "**Challenge**: See if you can generate the chart below: \n",
    "\n",
    "<img src=https://imgur.com/v4CiNqX.png>\n",
    "\n",
    "Looking at the hover text, how much does the median app earn in the Tools category? If developing an Android app costs $30,000 or thereabouts, does the average photography app recoup its development costs?\n",
    "\n",
    "Hint: I've used 'min ascending' to sort the categories. "
   ]
  },
  {
   "cell_type": "code",
   "metadata": {
    "id": "W1iVoT8Dos7x"
   },
   "source": [
    ""
   ],
   "execution_count": 15,
   "outputs": []
  },
  {
   "cell_type": "markdown",
   "metadata": {
    "id": "uT32ylj4WS9B"
   },
   "source": [
    "# How Much Can You Charge? Examine Paid App Pricing Strategies by Category\n",
    "\n",
    "**Challenge**: What is the median price price for a paid app? Then compare pricing by category by creating another box plot. But this time examine the prices (instead of the revenue estimates) of the paid apps. I recommend using `{categoryorder':'max descending'}` to sort the categories."
   ]
  },
  {
   "cell_type": "code",
   "metadata": {
    "id": "AdBr0TUhouqs"
   },
   "source": [
    ""
   ],
   "execution_count": 15,
   "outputs": []
  },
  {
   "cell_type": "code",
   "metadata": {
    "id": "bJnABRw3ovwr"
   },
   "source": [
    ""
   ],
   "execution_count": 15,
   "outputs": []
  },
  {
   "cell_type": "code",
   "metadata": {
    "id": "zSXVSlVyQ4Kz"
   },
   "source": [
    ""
   ],
   "execution_count": 15,
   "outputs": []
  }
 ]
}