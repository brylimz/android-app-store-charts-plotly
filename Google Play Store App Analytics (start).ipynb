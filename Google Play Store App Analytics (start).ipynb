{
 "nbformat": 4,
 "nbformat_minor": 0,
 "metadata": {
  "kernelspec": {
   "display_name": "Python 3",
   "language": "python",
   "name": "python3"
  },
  "language_info": {
   "codemirror_mode": {
    "name": "ipython",
    "version": 3
   },
   "file_extension": ".py",
   "mimetype": "text/x-python",
   "name": "python",
   "nbconvert_exporter": "python",
   "pygments_lexer": "ipython3",
   "version": "3.7.3"
  },
  "colab": {
   "name": "Google Play Store App Analytics (start).ipynb",
   "provenance": [],
   "toc_visible": true
  }
 },
 "cells": [
  {
   "cell_type": "markdown",
   "metadata": {
    "dc": {
     "key": "4"
    },
    "run_control": {
     "frozen": true
    },
    "tags": [
     "context"
    ],
    "id": "-Sxae4jbdiT2"
   },
   "source": [
    "# Introduction\n",
    "\n",
    "In this notebook, we will do a comprehensive analysis of the Android app market by comparing thousands of apps in the Google Play store."
   ]
  },
  {
   "cell_type": "markdown",
   "metadata": {
    "id": "sDT5lMxadiT3"
   },
   "source": [
    "# About the Dataset of Google Play Store Apps & Reviews"
   ]
  },
  {
   "cell_type": "markdown",
   "metadata": {
    "id": "5CiydsdNdiT3"
   },
   "source": [
    "**Data Source:** <br>\n",
    "App and review data was scraped from the Google Play Store by Lavanya Gupta in 2018. Original files listed [here](\n",
    "https://www.kaggle.com/lava18/google-play-store-apps)."
   ]
  },
  {
   "cell_type": "markdown",
   "metadata": {
    "id": "BBKBNy4UdiT4"
   },
   "source": [
    "# Import Statements"
   ]
  },
  {
   "cell_type": "code",
   "metadata": {
    "id": "_5mfFH4_diT4",
    "executionInfo": {
     "status": "ok",
     "timestamp": 1602234478794,
     "user_tz": -60,
     "elapsed": 594,
     "user": {
      "displayName": "Philipp Muellauer",
      "photoUrl": "https://lh3.googleusercontent.com/a-/AOh14GjjWitgsmZ0M9Wmzf-SRYD005WcMGhejWWHMUiZnFw=s64",
      "userId": "02749974243016517270"
     }
    }
   },
   "source": [
    "import pandas as pd\n"
   ],
   "execution_count": 1,
   "outputs": []
  },
  {
   "cell_type": "markdown",
   "metadata": {
    "id": "KegC9nPDdiT7"
   },
   "source": [
    "# Notebook Presentation"
   ]
  },
  {
   "cell_type": "code",
   "metadata": {
    "id": "WPL7rhJndiT7"
   },
   "source": [
    "# Show numeric output in decimal format e.g., 2.15\n",
    "pd.options.display.float_format = '{:,.2f}'.format"
   ],
   "execution_count": 2,
   "outputs": []
  },
  {
   "cell_type": "markdown",
   "metadata": {
    "id": "Uc9LOZu9diT-"
   },
   "source": [
    "# Read the Dataset"
   ]
  },
  {
   "cell_type": "code",
   "metadata": {
    "id": "zU0Zisv_diT-",
    "executionInfo": {
     "status": "error",
     "timestamp": 1602234486357,
     "user_tz": -60,
     "elapsed": 441,
     "user": {
      "displayName": "Philipp Muellauer",
      "photoUrl": "https://lh3.googleusercontent.com/a-/AOh14GjjWitgsmZ0M9Wmzf-SRYD005WcMGhejWWHMUiZnFw=s64",
      "userId": "02749974243016517270"
     }
    },
    "outputId": "f88a917e-30a1-45a4-b17a-ab21e557913c",
    "colab": {
     "base_uri": "https://localhost:8080/",
     "height": 375
    }
   },
   "source": [
    "df_apps = pd.read_csv('apps.csv')"
   ],
   "execution_count": 3,
   "outputs": []
  },
  {
   "cell_type": "markdown",
   "metadata": {
    "id": "iKvSUwQldiUA"
   },
   "source": [
    "# Data Cleaning"
   ]
  },
  {
   "cell_type": "markdown",
   "metadata": {
    "id": "MWTzYZIds5L9"
   },
   "source": [
    "**Challenge**: How many rows and columns does `df_apps` have? What are the column names? Look at a random sample of 5 different rows with [.sample()](https://pandas.pydata.org/pandas-docs/stable/reference/api/pandas.DataFrame.sample.html)."
   ]
  },
  {
   "cell_type": "code",
   "metadata": {
    "id": "HJI7UsPrnuRf"
   },
   "source": [
    "df_apps.shape"
   ],
   "execution_count": 5,
   "outputs": [
    {
     "data": {
      "text/plain": "(10841, 12)"
     },
     "execution_count": 5,
     "metadata": {},
     "output_type": "execute_result"
    }
   ]
  },
  {
   "cell_type": "code",
   "execution_count": 12,
   "outputs": [
    {
     "data": {
      "text/plain": "                                                     App             Category  \\\n158                                          Schlaumeier  BOOKS_AND_REFERENCE   \n2967                                       XML Editor CR                TOOLS   \n3325                                           BL Driver  MAPS_AND_NAVIGATION   \n7057                              To-Do Calendar Planner         PRODUCTIVITY   \n283                                      Smartshading AI              MEDICAL   \n10012                       Galactic Core Free Wallpaper      PERSONALIZATION   \n9727                             MyASUS - Service Center             BUSINESS   \n8973       FIFA - Tournaments, Soccer News & Live Scores               SPORTS   \n6314   DU GIF Maker: GIF Maker, Video to GIF & GIF Ed...          PHOTOGRAPHY   \n1697                Migraine, Headache Diary HeadApp Pro              MEDICAL   \n\n       Rating  Reviews  Size_MBs    Installs  Type  Price Content_Rating  \\\n158       NaN        0      0.67           5  Paid  $0.99       Everyone   \n2967     3.30       47     18.00       5,000  Free      0       Everyone   \n3325     3.90      230     12.00      10,000  Free      0       Everyone   \n7057     4.20    30291      4.00   1,000,000  Free      0       Everyone   \n283       NaN        0     10.00          10  Free      0       Everyone   \n10012    4.10    69417      0.83  10,000,000  Free      0       Everyone   \n9727     4.40   380837      7.30  10,000,000  Free      0       Everyone   \n8973     4.20   342909      6.00  10,000,000  Free      0       Everyone   \n6314     4.60     7605      4.30     500,000  Free      0       Everyone   \n1697     4.60      156     22.00         500  Paid  $3.49       Everyone   \n\n                  Genres    Last_Updated         Android_Ver  \n158    Books & Reference   June 17, 2015          2.3 and up  \n2967               Tools  March 16, 2018          4.0 and up  \n3325   Maps & Navigation   July 13, 2018          4.1 and up  \n7057        Productivity    May 29, 2018  Varies with device  \n283              Medical   June 21, 2018          4.1 and up  \n10012    Personalization     May 1, 2014          2.1 and up  \n9727            Business    July 4, 2018          4.2 and up  \n8973              Sports  August 3, 2018          4.4 and up  \n6314         Photography  April 10, 2018          4.3 and up  \n1697             Medical  March 14, 2018          4.4 and up  ",
      "text/html": "<div>\n<style scoped>\n    .dataframe tbody tr th:only-of-type {\n        vertical-align: middle;\n    }\n\n    .dataframe tbody tr th {\n        vertical-align: top;\n    }\n\n    .dataframe thead th {\n        text-align: right;\n    }\n</style>\n<table border=\"1\" class=\"dataframe\">\n  <thead>\n    <tr style=\"text-align: right;\">\n      <th></th>\n      <th>App</th>\n      <th>Category</th>\n      <th>Rating</th>\n      <th>Reviews</th>\n      <th>Size_MBs</th>\n      <th>Installs</th>\n      <th>Type</th>\n      <th>Price</th>\n      <th>Content_Rating</th>\n      <th>Genres</th>\n      <th>Last_Updated</th>\n      <th>Android_Ver</th>\n    </tr>\n  </thead>\n  <tbody>\n    <tr>\n      <th>158</th>\n      <td>Schlaumeier</td>\n      <td>BOOKS_AND_REFERENCE</td>\n      <td>NaN</td>\n      <td>0</td>\n      <td>0.67</td>\n      <td>5</td>\n      <td>Paid</td>\n      <td>$0.99</td>\n      <td>Everyone</td>\n      <td>Books &amp; Reference</td>\n      <td>June 17, 2015</td>\n      <td>2.3 and up</td>\n    </tr>\n    <tr>\n      <th>2967</th>\n      <td>XML Editor CR</td>\n      <td>TOOLS</td>\n      <td>3.30</td>\n      <td>47</td>\n      <td>18.00</td>\n      <td>5,000</td>\n      <td>Free</td>\n      <td>0</td>\n      <td>Everyone</td>\n      <td>Tools</td>\n      <td>March 16, 2018</td>\n      <td>4.0 and up</td>\n    </tr>\n    <tr>\n      <th>3325</th>\n      <td>BL Driver</td>\n      <td>MAPS_AND_NAVIGATION</td>\n      <td>3.90</td>\n      <td>230</td>\n      <td>12.00</td>\n      <td>10,000</td>\n      <td>Free</td>\n      <td>0</td>\n      <td>Everyone</td>\n      <td>Maps &amp; Navigation</td>\n      <td>July 13, 2018</td>\n      <td>4.1 and up</td>\n    </tr>\n    <tr>\n      <th>7057</th>\n      <td>To-Do Calendar Planner</td>\n      <td>PRODUCTIVITY</td>\n      <td>4.20</td>\n      <td>30291</td>\n      <td>4.00</td>\n      <td>1,000,000</td>\n      <td>Free</td>\n      <td>0</td>\n      <td>Everyone</td>\n      <td>Productivity</td>\n      <td>May 29, 2018</td>\n      <td>Varies with device</td>\n    </tr>\n    <tr>\n      <th>283</th>\n      <td>Smartshading AI</td>\n      <td>MEDICAL</td>\n      <td>NaN</td>\n      <td>0</td>\n      <td>10.00</td>\n      <td>10</td>\n      <td>Free</td>\n      <td>0</td>\n      <td>Everyone</td>\n      <td>Medical</td>\n      <td>June 21, 2018</td>\n      <td>4.1 and up</td>\n    </tr>\n    <tr>\n      <th>10012</th>\n      <td>Galactic Core Free Wallpaper</td>\n      <td>PERSONALIZATION</td>\n      <td>4.10</td>\n      <td>69417</td>\n      <td>0.83</td>\n      <td>10,000,000</td>\n      <td>Free</td>\n      <td>0</td>\n      <td>Everyone</td>\n      <td>Personalization</td>\n      <td>May 1, 2014</td>\n      <td>2.1 and up</td>\n    </tr>\n    <tr>\n      <th>9727</th>\n      <td>MyASUS - Service Center</td>\n      <td>BUSINESS</td>\n      <td>4.40</td>\n      <td>380837</td>\n      <td>7.30</td>\n      <td>10,000,000</td>\n      <td>Free</td>\n      <td>0</td>\n      <td>Everyone</td>\n      <td>Business</td>\n      <td>July 4, 2018</td>\n      <td>4.2 and up</td>\n    </tr>\n    <tr>\n      <th>8973</th>\n      <td>FIFA - Tournaments, Soccer News &amp; Live Scores</td>\n      <td>SPORTS</td>\n      <td>4.20</td>\n      <td>342909</td>\n      <td>6.00</td>\n      <td>10,000,000</td>\n      <td>Free</td>\n      <td>0</td>\n      <td>Everyone</td>\n      <td>Sports</td>\n      <td>August 3, 2018</td>\n      <td>4.4 and up</td>\n    </tr>\n    <tr>\n      <th>6314</th>\n      <td>DU GIF Maker: GIF Maker, Video to GIF &amp; GIF Ed...</td>\n      <td>PHOTOGRAPHY</td>\n      <td>4.60</td>\n      <td>7605</td>\n      <td>4.30</td>\n      <td>500,000</td>\n      <td>Free</td>\n      <td>0</td>\n      <td>Everyone</td>\n      <td>Photography</td>\n      <td>April 10, 2018</td>\n      <td>4.3 and up</td>\n    </tr>\n    <tr>\n      <th>1697</th>\n      <td>Migraine, Headache Diary HeadApp Pro</td>\n      <td>MEDICAL</td>\n      <td>4.60</td>\n      <td>156</td>\n      <td>22.00</td>\n      <td>500</td>\n      <td>Paid</td>\n      <td>$3.49</td>\n      <td>Everyone</td>\n      <td>Medical</td>\n      <td>March 14, 2018</td>\n      <td>4.4 and up</td>\n    </tr>\n  </tbody>\n</table>\n</div>"
     },
     "execution_count": 12,
     "metadata": {},
     "output_type": "execute_result"
    }
   ],
   "source": [
    "df_apps.sample(10)"
   ],
   "metadata": {
    "collapsed": false,
    "pycharm": {
     "name": "#%%\n"
    }
   }
  },
  {
   "cell_type": "code",
   "metadata": {
    "id": "MUluaHF5nueH"
   },
   "source": [],
   "execution_count": 3,
   "outputs": []
  },
  {
   "cell_type": "markdown",
   "metadata": {
    "id": "Hh81sMcvdiUI"
   },
   "source": [
    "### Drop Unused Columns\n",
    "\n",
    "**Challenge**: Remove the columns called `Last_Updated` and `Android_Version` from the DataFrame. We will not use these columns. "
   ]
  },
  {
   "cell_type": "code",
   "metadata": {
    "id": "t7EMSKAOnyzI"
   },
   "source": [
    "df_apps.drop(['Last_Updated', 'Android_Ver'], axis=1, inplace=True)\n",
    "df_apps.sample(5)"
   ],
   "execution_count": 16,
   "outputs": [
    {
     "ename": "KeyError",
     "evalue": "\"['Last_Updated' 'Android_Ver'] not found in axis\"",
     "output_type": "error",
     "traceback": [
      "\u001B[1;31m---------------------------------------------------------------------------\u001B[0m",
      "\u001B[1;31mKeyError\u001B[0m                                  Traceback (most recent call last)",
      "Input \u001B[1;32mIn [16]\u001B[0m, in \u001B[0;36m<module>\u001B[1;34m\u001B[0m\n\u001B[1;32m----> 1\u001B[0m \u001B[43mdf_apps\u001B[49m\u001B[38;5;241;43m.\u001B[39;49m\u001B[43mdrop\u001B[49m\u001B[43m(\u001B[49m\u001B[43m[\u001B[49m\u001B[38;5;124;43m'\u001B[39;49m\u001B[38;5;124;43mLast_Updated\u001B[39;49m\u001B[38;5;124;43m'\u001B[39;49m\u001B[43m,\u001B[49m\u001B[43m \u001B[49m\u001B[38;5;124;43m'\u001B[39;49m\u001B[38;5;124;43mAndroid_Ver\u001B[39;49m\u001B[38;5;124;43m'\u001B[39;49m\u001B[43m]\u001B[49m\u001B[43m,\u001B[49m\u001B[43m \u001B[49m\u001B[43maxis\u001B[49m\u001B[38;5;241;43m=\u001B[39;49m\u001B[38;5;241;43m1\u001B[39;49m\u001B[43m,\u001B[49m\u001B[43m \u001B[49m\u001B[43minplace\u001B[49m\u001B[38;5;241;43m=\u001B[39;49m\u001B[38;5;28;43;01mTrue\u001B[39;49;00m\u001B[43m)\u001B[49m\n\u001B[0;32m      2\u001B[0m df_apps\u001B[38;5;241m.\u001B[39msample(\u001B[38;5;241m5\u001B[39m)\n",
      "File \u001B[1;32mC:\\Python310\\lib\\site-packages\\pandas\\util\\_decorators.py:311\u001B[0m, in \u001B[0;36mdeprecate_nonkeyword_arguments.<locals>.decorate.<locals>.wrapper\u001B[1;34m(*args, **kwargs)\u001B[0m\n\u001B[0;32m    305\u001B[0m \u001B[38;5;28;01mif\u001B[39;00m \u001B[38;5;28mlen\u001B[39m(args) \u001B[38;5;241m>\u001B[39m num_allow_args:\n\u001B[0;32m    306\u001B[0m     warnings\u001B[38;5;241m.\u001B[39mwarn(\n\u001B[0;32m    307\u001B[0m         msg\u001B[38;5;241m.\u001B[39mformat(arguments\u001B[38;5;241m=\u001B[39marguments),\n\u001B[0;32m    308\u001B[0m         \u001B[38;5;167;01mFutureWarning\u001B[39;00m,\n\u001B[0;32m    309\u001B[0m         stacklevel\u001B[38;5;241m=\u001B[39mstacklevel,\n\u001B[0;32m    310\u001B[0m     )\n\u001B[1;32m--> 311\u001B[0m \u001B[38;5;28;01mreturn\u001B[39;00m func(\u001B[38;5;241m*\u001B[39margs, \u001B[38;5;241m*\u001B[39m\u001B[38;5;241m*\u001B[39mkwargs)\n",
      "File \u001B[1;32mC:\\Python310\\lib\\site-packages\\pandas\\core\\frame.py:4906\u001B[0m, in \u001B[0;36mDataFrame.drop\u001B[1;34m(self, labels, axis, index, columns, level, inplace, errors)\u001B[0m\n\u001B[0;32m   4774\u001B[0m \u001B[38;5;129m@deprecate_nonkeyword_arguments\u001B[39m(version\u001B[38;5;241m=\u001B[39m\u001B[38;5;28;01mNone\u001B[39;00m, allowed_args\u001B[38;5;241m=\u001B[39m[\u001B[38;5;124m\"\u001B[39m\u001B[38;5;124mself\u001B[39m\u001B[38;5;124m\"\u001B[39m, \u001B[38;5;124m\"\u001B[39m\u001B[38;5;124mlabels\u001B[39m\u001B[38;5;124m\"\u001B[39m])\n\u001B[0;32m   4775\u001B[0m \u001B[38;5;28;01mdef\u001B[39;00m \u001B[38;5;21mdrop\u001B[39m(\n\u001B[0;32m   4776\u001B[0m     \u001B[38;5;28mself\u001B[39m,\n\u001B[1;32m   (...)\u001B[0m\n\u001B[0;32m   4783\u001B[0m     errors: \u001B[38;5;28mstr\u001B[39m \u001B[38;5;241m=\u001B[39m \u001B[38;5;124m\"\u001B[39m\u001B[38;5;124mraise\u001B[39m\u001B[38;5;124m\"\u001B[39m,\n\u001B[0;32m   4784\u001B[0m ):\n\u001B[0;32m   4785\u001B[0m     \u001B[38;5;124;03m\"\"\"\u001B[39;00m\n\u001B[0;32m   4786\u001B[0m \u001B[38;5;124;03m    Drop specified labels from rows or columns.\u001B[39;00m\n\u001B[0;32m   4787\u001B[0m \n\u001B[1;32m   (...)\u001B[0m\n\u001B[0;32m   4904\u001B[0m \u001B[38;5;124;03m            weight  1.0     0.8\u001B[39;00m\n\u001B[0;32m   4905\u001B[0m \u001B[38;5;124;03m    \"\"\"\u001B[39;00m\n\u001B[1;32m-> 4906\u001B[0m     \u001B[38;5;28;01mreturn\u001B[39;00m \u001B[38;5;28;43msuper\u001B[39;49m\u001B[43m(\u001B[49m\u001B[43m)\u001B[49m\u001B[38;5;241;43m.\u001B[39;49m\u001B[43mdrop\u001B[49m\u001B[43m(\u001B[49m\n\u001B[0;32m   4907\u001B[0m \u001B[43m        \u001B[49m\u001B[43mlabels\u001B[49m\u001B[38;5;241;43m=\u001B[39;49m\u001B[43mlabels\u001B[49m\u001B[43m,\u001B[49m\n\u001B[0;32m   4908\u001B[0m \u001B[43m        \u001B[49m\u001B[43maxis\u001B[49m\u001B[38;5;241;43m=\u001B[39;49m\u001B[43maxis\u001B[49m\u001B[43m,\u001B[49m\n\u001B[0;32m   4909\u001B[0m \u001B[43m        \u001B[49m\u001B[43mindex\u001B[49m\u001B[38;5;241;43m=\u001B[39;49m\u001B[43mindex\u001B[49m\u001B[43m,\u001B[49m\n\u001B[0;32m   4910\u001B[0m \u001B[43m        \u001B[49m\u001B[43mcolumns\u001B[49m\u001B[38;5;241;43m=\u001B[39;49m\u001B[43mcolumns\u001B[49m\u001B[43m,\u001B[49m\n\u001B[0;32m   4911\u001B[0m \u001B[43m        \u001B[49m\u001B[43mlevel\u001B[49m\u001B[38;5;241;43m=\u001B[39;49m\u001B[43mlevel\u001B[49m\u001B[43m,\u001B[49m\n\u001B[0;32m   4912\u001B[0m \u001B[43m        \u001B[49m\u001B[43minplace\u001B[49m\u001B[38;5;241;43m=\u001B[39;49m\u001B[43minplace\u001B[49m\u001B[43m,\u001B[49m\n\u001B[0;32m   4913\u001B[0m \u001B[43m        \u001B[49m\u001B[43merrors\u001B[49m\u001B[38;5;241;43m=\u001B[39;49m\u001B[43merrors\u001B[49m\u001B[43m,\u001B[49m\n\u001B[0;32m   4914\u001B[0m \u001B[43m    \u001B[49m\u001B[43m)\u001B[49m\n",
      "File \u001B[1;32mC:\\Python310\\lib\\site-packages\\pandas\\core\\generic.py:4150\u001B[0m, in \u001B[0;36mNDFrame.drop\u001B[1;34m(self, labels, axis, index, columns, level, inplace, errors)\u001B[0m\n\u001B[0;32m   4148\u001B[0m \u001B[38;5;28;01mfor\u001B[39;00m axis, labels \u001B[38;5;129;01min\u001B[39;00m axes\u001B[38;5;241m.\u001B[39mitems():\n\u001B[0;32m   4149\u001B[0m     \u001B[38;5;28;01mif\u001B[39;00m labels \u001B[38;5;129;01mis\u001B[39;00m \u001B[38;5;129;01mnot\u001B[39;00m \u001B[38;5;28;01mNone\u001B[39;00m:\n\u001B[1;32m-> 4150\u001B[0m         obj \u001B[38;5;241m=\u001B[39m \u001B[43mobj\u001B[49m\u001B[38;5;241;43m.\u001B[39;49m\u001B[43m_drop_axis\u001B[49m\u001B[43m(\u001B[49m\u001B[43mlabels\u001B[49m\u001B[43m,\u001B[49m\u001B[43m \u001B[49m\u001B[43maxis\u001B[49m\u001B[43m,\u001B[49m\u001B[43m \u001B[49m\u001B[43mlevel\u001B[49m\u001B[38;5;241;43m=\u001B[39;49m\u001B[43mlevel\u001B[49m\u001B[43m,\u001B[49m\u001B[43m \u001B[49m\u001B[43merrors\u001B[49m\u001B[38;5;241;43m=\u001B[39;49m\u001B[43merrors\u001B[49m\u001B[43m)\u001B[49m\n\u001B[0;32m   4152\u001B[0m \u001B[38;5;28;01mif\u001B[39;00m inplace:\n\u001B[0;32m   4153\u001B[0m     \u001B[38;5;28mself\u001B[39m\u001B[38;5;241m.\u001B[39m_update_inplace(obj)\n",
      "File \u001B[1;32mC:\\Python310\\lib\\site-packages\\pandas\\core\\generic.py:4185\u001B[0m, in \u001B[0;36mNDFrame._drop_axis\u001B[1;34m(self, labels, axis, level, errors)\u001B[0m\n\u001B[0;32m   4183\u001B[0m         new_axis \u001B[38;5;241m=\u001B[39m axis\u001B[38;5;241m.\u001B[39mdrop(labels, level\u001B[38;5;241m=\u001B[39mlevel, errors\u001B[38;5;241m=\u001B[39merrors)\n\u001B[0;32m   4184\u001B[0m     \u001B[38;5;28;01melse\u001B[39;00m:\n\u001B[1;32m-> 4185\u001B[0m         new_axis \u001B[38;5;241m=\u001B[39m \u001B[43maxis\u001B[49m\u001B[38;5;241;43m.\u001B[39;49m\u001B[43mdrop\u001B[49m\u001B[43m(\u001B[49m\u001B[43mlabels\u001B[49m\u001B[43m,\u001B[49m\u001B[43m \u001B[49m\u001B[43merrors\u001B[49m\u001B[38;5;241;43m=\u001B[39;49m\u001B[43merrors\u001B[49m\u001B[43m)\u001B[49m\n\u001B[0;32m   4186\u001B[0m     result \u001B[38;5;241m=\u001B[39m \u001B[38;5;28mself\u001B[39m\u001B[38;5;241m.\u001B[39mreindex(\u001B[38;5;241m*\u001B[39m\u001B[38;5;241m*\u001B[39m{axis_name: new_axis})\n\u001B[0;32m   4188\u001B[0m \u001B[38;5;66;03m# Case for non-unique axis\u001B[39;00m\n\u001B[0;32m   4189\u001B[0m \u001B[38;5;28;01melse\u001B[39;00m:\n",
      "File \u001B[1;32mC:\\Python310\\lib\\site-packages\\pandas\\core\\indexes\\base.py:6017\u001B[0m, in \u001B[0;36mIndex.drop\u001B[1;34m(self, labels, errors)\u001B[0m\n\u001B[0;32m   6015\u001B[0m \u001B[38;5;28;01mif\u001B[39;00m mask\u001B[38;5;241m.\u001B[39many():\n\u001B[0;32m   6016\u001B[0m     \u001B[38;5;28;01mif\u001B[39;00m errors \u001B[38;5;241m!=\u001B[39m \u001B[38;5;124m\"\u001B[39m\u001B[38;5;124mignore\u001B[39m\u001B[38;5;124m\"\u001B[39m:\n\u001B[1;32m-> 6017\u001B[0m         \u001B[38;5;28;01mraise\u001B[39;00m \u001B[38;5;167;01mKeyError\u001B[39;00m(\u001B[38;5;124mf\u001B[39m\u001B[38;5;124m\"\u001B[39m\u001B[38;5;132;01m{\u001B[39;00mlabels[mask]\u001B[38;5;132;01m}\u001B[39;00m\u001B[38;5;124m not found in axis\u001B[39m\u001B[38;5;124m\"\u001B[39m)\n\u001B[0;32m   6018\u001B[0m     indexer \u001B[38;5;241m=\u001B[39m indexer[\u001B[38;5;241m~\u001B[39mmask]\n\u001B[0;32m   6019\u001B[0m \u001B[38;5;28;01mreturn\u001B[39;00m \u001B[38;5;28mself\u001B[39m\u001B[38;5;241m.\u001B[39mdelete(indexer)\n",
      "\u001B[1;31mKeyError\u001B[0m: \"['Last_Updated' 'Android_Ver'] not found in axis\""
     ]
    }
   ]
  },
  {
   "cell_type": "markdown",
   "metadata": {
    "id": "YQGe1DIKdiUM"
   },
   "source": [
    "### Find and Remove NaN values in Ratings\n",
    "\n",
    "**Challenge**: How may rows have a NaN value (not-a-number) in the Ratings column? Create DataFrame called `df_apps_clean` that does not include these rows. "
   ]
  },
  {
   "cell_type": "code",
   "metadata": {
    "id": "grcP1IOZn1Wv"
   },
   "source": [
    "nan_rows = df_apps[df_apps.Rating.isna()]\n",
    "print(nan_rows.shape)\n",
    "nan_rows.head()\n"
   ],
   "execution_count": 19,
   "outputs": [
    {
     "name": "stdout",
     "output_type": "stream",
     "text": [
      "(1474, 10)\n"
     ]
    },
    {
     "data": {
      "text/plain": "                                            App         Category  Rating  \\\n0                       Ak Parti Yardım Toplama           SOCIAL     NaN   \n1                    Ain Arabic Kids Alif Ba ta           FAMILY     NaN   \n2  Popsicle Launcher for Android P 9.0 launcher  PERSONALIZATION     NaN   \n3                     Command & Conquer: Rivals           FAMILY     NaN   \n4                                    CX Network         BUSINESS     NaN   \n\n   Reviews  Size_MBs Installs  Type   Price Content_Rating           Genres  \n0        0      8.70        0  Paid  $13.99           Teen           Social  \n1        0     33.00        0  Paid   $2.99       Everyone        Education  \n2        0      5.50        0  Paid   $1.49       Everyone  Personalization  \n3        0     19.00        0   NaN       0   Everyone 10+         Strategy  \n4        0     10.00        0  Free       0       Everyone         Business  ",
      "text/html": "<div>\n<style scoped>\n    .dataframe tbody tr th:only-of-type {\n        vertical-align: middle;\n    }\n\n    .dataframe tbody tr th {\n        vertical-align: top;\n    }\n\n    .dataframe thead th {\n        text-align: right;\n    }\n</style>\n<table border=\"1\" class=\"dataframe\">\n  <thead>\n    <tr style=\"text-align: right;\">\n      <th></th>\n      <th>App</th>\n      <th>Category</th>\n      <th>Rating</th>\n      <th>Reviews</th>\n      <th>Size_MBs</th>\n      <th>Installs</th>\n      <th>Type</th>\n      <th>Price</th>\n      <th>Content_Rating</th>\n      <th>Genres</th>\n    </tr>\n  </thead>\n  <tbody>\n    <tr>\n      <th>0</th>\n      <td>Ak Parti Yardım Toplama</td>\n      <td>SOCIAL</td>\n      <td>NaN</td>\n      <td>0</td>\n      <td>8.70</td>\n      <td>0</td>\n      <td>Paid</td>\n      <td>$13.99</td>\n      <td>Teen</td>\n      <td>Social</td>\n    </tr>\n    <tr>\n      <th>1</th>\n      <td>Ain Arabic Kids Alif Ba ta</td>\n      <td>FAMILY</td>\n      <td>NaN</td>\n      <td>0</td>\n      <td>33.00</td>\n      <td>0</td>\n      <td>Paid</td>\n      <td>$2.99</td>\n      <td>Everyone</td>\n      <td>Education</td>\n    </tr>\n    <tr>\n      <th>2</th>\n      <td>Popsicle Launcher for Android P 9.0 launcher</td>\n      <td>PERSONALIZATION</td>\n      <td>NaN</td>\n      <td>0</td>\n      <td>5.50</td>\n      <td>0</td>\n      <td>Paid</td>\n      <td>$1.49</td>\n      <td>Everyone</td>\n      <td>Personalization</td>\n    </tr>\n    <tr>\n      <th>3</th>\n      <td>Command &amp; Conquer: Rivals</td>\n      <td>FAMILY</td>\n      <td>NaN</td>\n      <td>0</td>\n      <td>19.00</td>\n      <td>0</td>\n      <td>NaN</td>\n      <td>0</td>\n      <td>Everyone 10+</td>\n      <td>Strategy</td>\n    </tr>\n    <tr>\n      <th>4</th>\n      <td>CX Network</td>\n      <td>BUSINESS</td>\n      <td>NaN</td>\n      <td>0</td>\n      <td>10.00</td>\n      <td>0</td>\n      <td>Free</td>\n      <td>0</td>\n      <td>Everyone</td>\n      <td>Business</td>\n    </tr>\n  </tbody>\n</table>\n</div>"
     },
     "execution_count": 19,
     "metadata": {},
     "output_type": "execute_result"
    }
   ]
  },
  {
   "cell_type": "code",
   "metadata": {
    "id": "IbQnnPaUn1Pw"
   },
   "source": [
    "df_apps_clean = df_apps.dropna()\n",
    "df_apps_clean.shape"
   ],
   "execution_count": 20,
   "outputs": [
    {
     "data": {
      "text/plain": "(9367, 10)"
     },
     "execution_count": 20,
     "metadata": {},
     "output_type": "execute_result"
    }
   ]
  },
  {
   "cell_type": "markdown",
   "metadata": {
    "id": "pD26SWlxdiUV"
   },
   "source": [
    "### Find and Remove Duplicates\n",
    "\n",
    "**Challenge**: Are there any duplicates in data? Check for duplicates using the [.duplicated()](https://pandas.pydata.org/pandas-docs/stable/reference/api/pandas.DataFrame.duplicated.html) function. How many entries can you find for the \"Instagram\" app? Use [.drop_duplicates()](https://pandas.pydata.org/pandas-docs/stable/reference/api/pandas.DataFrame.drop_duplicates.html) to remove any duplicates from `df_apps_clean`. \n"
   ]
  },
  {
   "cell_type": "code",
   "metadata": {
    "id": "lE7X6KG3n5pR"
   },
   "source": [
    "duplicated_rows = df_apps_clean[df_apps_clean.duplicated()]"
   ],
   "execution_count": 23,
   "outputs": []
  },
  {
   "cell_type": "code",
   "metadata": {
    "id": "GK2rP7wgn53-"
   },
   "source": [
    "print(duplicated_rows.shape)"
   ],
   "execution_count": 25,
   "outputs": [
    {
     "name": "stdout",
     "output_type": "stream",
     "text": [
      "(476, 10)\n"
     ]
    }
   ]
  },
  {
   "cell_type": "code",
   "metadata": {
    "id": "Wtt09kiRn6GS"
   },
   "source": [
    "duplicated_rows.head()"
   ],
   "execution_count": 26,
   "outputs": [
    {
     "data": {
      "text/plain": "                                             App Category  Rating  Reviews  \\\n946                       420 BZ Budeze Delivery  MEDICAL    5.00        2   \n1133                                 MouseMingle   DATING    2.70        3   \n1196  Cardiac diagnosis (heart rate, arrhythmia)  MEDICAL    4.40        8   \n1231                                Sway Medical  MEDICAL    5.00        3   \n1247              Chat Kids - Chat Room For Kids   DATING    4.70        6   \n\n      Size_MBs Installs  Type   Price Content_Rating   Genres  \n946      11.00      100  Free       0     Mature 17+  Medical  \n1133      3.90      100  Free       0     Mature 17+   Dating  \n1196      6.50      100  Paid  $12.99       Everyone  Medical  \n1231     22.00      100  Free       0       Everyone  Medical  \n1247      4.90      100  Free       0     Mature 17+   Dating  ",
      "text/html": "<div>\n<style scoped>\n    .dataframe tbody tr th:only-of-type {\n        vertical-align: middle;\n    }\n\n    .dataframe tbody tr th {\n        vertical-align: top;\n    }\n\n    .dataframe thead th {\n        text-align: right;\n    }\n</style>\n<table border=\"1\" class=\"dataframe\">\n  <thead>\n    <tr style=\"text-align: right;\">\n      <th></th>\n      <th>App</th>\n      <th>Category</th>\n      <th>Rating</th>\n      <th>Reviews</th>\n      <th>Size_MBs</th>\n      <th>Installs</th>\n      <th>Type</th>\n      <th>Price</th>\n      <th>Content_Rating</th>\n      <th>Genres</th>\n    </tr>\n  </thead>\n  <tbody>\n    <tr>\n      <th>946</th>\n      <td>420 BZ Budeze Delivery</td>\n      <td>MEDICAL</td>\n      <td>5.00</td>\n      <td>2</td>\n      <td>11.00</td>\n      <td>100</td>\n      <td>Free</td>\n      <td>0</td>\n      <td>Mature 17+</td>\n      <td>Medical</td>\n    </tr>\n    <tr>\n      <th>1133</th>\n      <td>MouseMingle</td>\n      <td>DATING</td>\n      <td>2.70</td>\n      <td>3</td>\n      <td>3.90</td>\n      <td>100</td>\n      <td>Free</td>\n      <td>0</td>\n      <td>Mature 17+</td>\n      <td>Dating</td>\n    </tr>\n    <tr>\n      <th>1196</th>\n      <td>Cardiac diagnosis (heart rate, arrhythmia)</td>\n      <td>MEDICAL</td>\n      <td>4.40</td>\n      <td>8</td>\n      <td>6.50</td>\n      <td>100</td>\n      <td>Paid</td>\n      <td>$12.99</td>\n      <td>Everyone</td>\n      <td>Medical</td>\n    </tr>\n    <tr>\n      <th>1231</th>\n      <td>Sway Medical</td>\n      <td>MEDICAL</td>\n      <td>5.00</td>\n      <td>3</td>\n      <td>22.00</td>\n      <td>100</td>\n      <td>Free</td>\n      <td>0</td>\n      <td>Everyone</td>\n      <td>Medical</td>\n    </tr>\n    <tr>\n      <th>1247</th>\n      <td>Chat Kids - Chat Room For Kids</td>\n      <td>DATING</td>\n      <td>4.70</td>\n      <td>6</td>\n      <td>4.90</td>\n      <td>100</td>\n      <td>Free</td>\n      <td>0</td>\n      <td>Mature 17+</td>\n      <td>Dating</td>\n    </tr>\n  </tbody>\n</table>\n</div>"
     },
     "execution_count": 26,
     "metadata": {},
     "output_type": "execute_result"
    }
   ]
  },
  {
   "cell_type": "code",
   "metadata": {
    "id": "30yZCwtKn5xC"
   },
   "source": [
    "df_apps_clean[df_apps_clean.App == 'Instagram']"
   ],
   "execution_count": 27,
   "outputs": [
    {
     "data": {
      "text/plain": "             App Category  Rating   Reviews  Size_MBs       Installs  Type  \\\n10806  Instagram   SOCIAL    4.50  66577313      5.30  1,000,000,000  Free   \n10808  Instagram   SOCIAL    4.50  66577446      5.30  1,000,000,000  Free   \n10809  Instagram   SOCIAL    4.50  66577313      5.30  1,000,000,000  Free   \n10810  Instagram   SOCIAL    4.50  66509917      5.30  1,000,000,000  Free   \n\n      Price Content_Rating  Genres  \n10806     0           Teen  Social  \n10808     0           Teen  Social  \n10809     0           Teen  Social  \n10810     0           Teen  Social  ",
      "text/html": "<div>\n<style scoped>\n    .dataframe tbody tr th:only-of-type {\n        vertical-align: middle;\n    }\n\n    .dataframe tbody tr th {\n        vertical-align: top;\n    }\n\n    .dataframe thead th {\n        text-align: right;\n    }\n</style>\n<table border=\"1\" class=\"dataframe\">\n  <thead>\n    <tr style=\"text-align: right;\">\n      <th></th>\n      <th>App</th>\n      <th>Category</th>\n      <th>Rating</th>\n      <th>Reviews</th>\n      <th>Size_MBs</th>\n      <th>Installs</th>\n      <th>Type</th>\n      <th>Price</th>\n      <th>Content_Rating</th>\n      <th>Genres</th>\n    </tr>\n  </thead>\n  <tbody>\n    <tr>\n      <th>10806</th>\n      <td>Instagram</td>\n      <td>SOCIAL</td>\n      <td>4.50</td>\n      <td>66577313</td>\n      <td>5.30</td>\n      <td>1,000,000,000</td>\n      <td>Free</td>\n      <td>0</td>\n      <td>Teen</td>\n      <td>Social</td>\n    </tr>\n    <tr>\n      <th>10808</th>\n      <td>Instagram</td>\n      <td>SOCIAL</td>\n      <td>4.50</td>\n      <td>66577446</td>\n      <td>5.30</td>\n      <td>1,000,000,000</td>\n      <td>Free</td>\n      <td>0</td>\n      <td>Teen</td>\n      <td>Social</td>\n    </tr>\n    <tr>\n      <th>10809</th>\n      <td>Instagram</td>\n      <td>SOCIAL</td>\n      <td>4.50</td>\n      <td>66577313</td>\n      <td>5.30</td>\n      <td>1,000,000,000</td>\n      <td>Free</td>\n      <td>0</td>\n      <td>Teen</td>\n      <td>Social</td>\n    </tr>\n    <tr>\n      <th>10810</th>\n      <td>Instagram</td>\n      <td>SOCIAL</td>\n      <td>4.50</td>\n      <td>66509917</td>\n      <td>5.30</td>\n      <td>1,000,000,000</td>\n      <td>Free</td>\n      <td>0</td>\n      <td>Teen</td>\n      <td>Social</td>\n    </tr>\n  </tbody>\n</table>\n</div>"
     },
     "execution_count": 27,
     "metadata": {},
     "output_type": "execute_result"
    }
   ]
  },
  {
   "cell_type": "code",
   "metadata": {
    "id": "AagS_wgWn5ib"
   },
   "source": [
    "df_apps_clean = df_apps_clean.drop_duplicates(subset=['App', 'Type', 'Price'])\n",
    "df_apps_clean[df_apps_clean.App == 'Instagram']"
   ],
   "execution_count": 30,
   "outputs": [
    {
     "data": {
      "text/plain": "             App Category  Rating   Reviews  Size_MBs       Installs  Type  \\\n10806  Instagram   SOCIAL    4.50  66577313      5.30  1,000,000,000  Free   \n\n      Price Content_Rating  Genres  \n10806     0           Teen  Social  ",
      "text/html": "<div>\n<style scoped>\n    .dataframe tbody tr th:only-of-type {\n        vertical-align: middle;\n    }\n\n    .dataframe tbody tr th {\n        vertical-align: top;\n    }\n\n    .dataframe thead th {\n        text-align: right;\n    }\n</style>\n<table border=\"1\" class=\"dataframe\">\n  <thead>\n    <tr style=\"text-align: right;\">\n      <th></th>\n      <th>App</th>\n      <th>Category</th>\n      <th>Rating</th>\n      <th>Reviews</th>\n      <th>Size_MBs</th>\n      <th>Installs</th>\n      <th>Type</th>\n      <th>Price</th>\n      <th>Content_Rating</th>\n      <th>Genres</th>\n    </tr>\n  </thead>\n  <tbody>\n    <tr>\n      <th>10806</th>\n      <td>Instagram</td>\n      <td>SOCIAL</td>\n      <td>4.50</td>\n      <td>66577313</td>\n      <td>5.30</td>\n      <td>1,000,000,000</td>\n      <td>Free</td>\n      <td>0</td>\n      <td>Teen</td>\n      <td>Social</td>\n    </tr>\n  </tbody>\n</table>\n</div>"
     },
     "execution_count": 30,
     "metadata": {},
     "output_type": "execute_result"
    }
   ]
  },
  {
   "cell_type": "markdown",
   "metadata": {
    "id": "GJrM69CfdiUh"
   },
   "source": [
    "# Find Highest Rated Apps\n",
    "\n",
    "**Challenge**: Identify which apps are the highest rated. What problem might you encounter if you rely exclusively on ratings alone to determine the quality of an app?"
   ]
  },
  {
   "cell_type": "code",
   "metadata": {
    "id": "rp7vFHBMn7st"
   },
   "source": [
    ""
   ],
   "execution_count": 3,
   "outputs": []
  },
  {
   "cell_type": "markdown",
   "metadata": {
    "id": "28o1Tro4diUi"
   },
   "source": [
    "# Find 5 Largest Apps in terms of Size (MBs)\n",
    "\n",
    "**Challenge**: What's the size in megabytes (MB) of the largest Android apps in the Google Play Store. Based on the data, do you think there could be limit in place or can developers make apps as large as they please? "
   ]
  },
  {
   "cell_type": "code",
   "metadata": {
    "id": "n5r0pJCOn9Vu"
   },
   "source": [
    ""
   ],
   "execution_count": 3,
   "outputs": []
  },
  {
   "cell_type": "markdown",
   "metadata": {
    "id": "C3gTckh7diUk"
   },
   "source": [
    "# Find the 5 App with Most Reviews\n",
    "\n",
    "**Challenge**: Which apps have the highest number of reviews? Are there any paid apps among the top 50?"
   ]
  },
  {
   "cell_type": "code",
   "metadata": {
    "id": "TLt98G0Sn_De"
   },
   "source": [
    ""
   ],
   "execution_count": 3,
   "outputs": []
  },
  {
   "cell_type": "markdown",
   "metadata": {
    "id": "BFoRqpezjebe"
   },
   "source": [
    "# Plotly Pie and Donut Charts - Visualise Categorical Data: Content Ratings"
   ]
  },
  {
   "cell_type": "code",
   "metadata": {
    "id": "c0IIxNGnoFKM"
   },
   "source": [
    ""
   ],
   "execution_count": 3,
   "outputs": []
  },
  {
   "cell_type": "code",
   "metadata": {
    "id": "TSiV6ZkjoFVg"
   },
   "source": [
    ""
   ],
   "execution_count": 3,
   "outputs": []
  },
  {
   "cell_type": "code",
   "metadata": {
    "id": "7kil2mdfoFOr"
   },
   "source": [
    ""
   ],
   "execution_count": 3,
   "outputs": []
  },
  {
   "cell_type": "code",
   "metadata": {
    "id": "6ZaHYNy2oFEE"
   },
   "source": [
    ""
   ],
   "execution_count": 3,
   "outputs": []
  },
  {
   "cell_type": "markdown",
   "metadata": {
    "id": "RoPpW37xdiUm"
   },
   "source": [
    "# Numeric Type Conversion: Examine the Number of Installs\n",
    "\n",
    "**Challenge**: How many apps had over 1 billion (that's right - BILLION) installations? How many apps just had a single install? \n",
    "\n",
    "Check the datatype of the Installs column.\n",
    "\n",
    "Count the number of apps at each level of installations. \n",
    "\n",
    "Convert the number of installations (the Installs column) to a numeric data type. Hint: this is a 2-step process. You'll have make sure you remove non-numeric characters first. "
   ]
  },
  {
   "cell_type": "code",
   "metadata": {
    "id": "uTNyWsPboJLq"
   },
   "source": [
    ""
   ],
   "execution_count": 3,
   "outputs": []
  },
  {
   "cell_type": "code",
   "metadata": {
    "id": "yzR49fYcoJRI"
   },
   "source": [
    ""
   ],
   "execution_count": 3,
   "outputs": []
  },
  {
   "cell_type": "code",
   "metadata": {
    "id": "cFjptR-JoJOE"
   },
   "source": [
    ""
   ],
   "execution_count": 3,
   "outputs": []
  },
  {
   "cell_type": "code",
   "metadata": {
    "id": "8AMmxKHgoJGT"
   },
   "source": [
    ""
   ],
   "execution_count": 3,
   "outputs": []
  },
  {
   "cell_type": "markdown",
   "metadata": {
    "id": "7T4sfNpFdiUv"
   },
   "source": [
    "# Find the Most Expensive Apps, Filter out the Junk, and Calculate a (ballpark) Sales Revenue Estimate\n",
    "\n",
    "Let's examine the Price column more closely.\n",
    "\n",
    "**Challenge**: Convert the price column to numeric data. Then investigate the top 20 most expensive apps in the dataset.\n",
    "\n",
    "Remove all apps that cost more than $250 from the `df_apps_clean` DataFrame.\n",
    "\n",
    "Add a column called 'Revenue_Estimate' to the DataFrame. This column should hold the price of the app times the number of installs. What are the top 10 highest grossing paid apps according to this estimate? Out of the top 10 highest grossing paid apps, how many are games?\n"
   ]
  },
  {
   "cell_type": "code",
   "metadata": {
    "id": "CqhX2WCJoQEp"
   },
   "source": [
    ""
   ],
   "execution_count": 3,
   "outputs": []
  },
  {
   "cell_type": "markdown",
   "metadata": {
    "id": "Rgposh-CdiU4"
   },
   "source": [
    "### The most expensive apps sub $250"
   ]
  },
  {
   "cell_type": "code",
   "metadata": {
    "id": "c8_n8z8XoUML"
   },
   "source": [
    ""
   ],
   "execution_count": 3,
   "outputs": []
  },
  {
   "cell_type": "markdown",
   "metadata": {
    "id": "VGu85CLb4OOH"
   },
   "source": [
    "### Highest Grossing Paid Apps (ballpark estimate)"
   ]
  },
  {
   "cell_type": "code",
   "metadata": {
    "id": "3mDi45iIoVzE"
   },
   "source": [
    ""
   ],
   "execution_count": 3,
   "outputs": []
  },
  {
   "cell_type": "markdown",
   "metadata": {
    "dc": {
     "key": "18"
    },
    "run_control": {
     "frozen": true
    },
    "tags": [
     "context"
    ],
    "id": "lvpM2MyTdiU6"
   },
   "source": [
    "# Plotly Bar Charts & Scatter Plots: Analysing App Categories"
   ]
  },
  {
   "cell_type": "code",
   "metadata": {
    "id": "3L6hK0aLoYxY"
   },
   "source": [
    ""
   ],
   "execution_count": 3,
   "outputs": []
  },
  {
   "cell_type": "code",
   "metadata": {
    "id": "mg50Ts9joYz1"
   },
   "source": [
    ""
   ],
   "execution_count": 3,
   "outputs": []
  },
  {
   "cell_type": "code",
   "metadata": {
    "id": "WZZizlGjoYfn"
   },
   "source": [
    ""
   ],
   "execution_count": 3,
   "outputs": []
  },
  {
   "cell_type": "markdown",
   "metadata": {
    "id": "0tTurR7qdiU9"
   },
   "source": [
    "### Vertical Bar Chart - Highest Competition (Number of Apps)"
   ]
  },
  {
   "cell_type": "code",
   "metadata": {
    "id": "SFSMH00AoaMB"
   },
   "source": [
    ""
   ],
   "execution_count": 3,
   "outputs": []
  },
  {
   "cell_type": "markdown",
   "metadata": {
    "id": "57mowetLdiU_"
   },
   "source": [
    "### Horizontal Bar Chart - Most Popular Categories (Highest Downloads)"
   ]
  },
  {
   "cell_type": "code",
   "metadata": {
    "id": "zHO7eTJmocLm"
   },
   "source": [
    ""
   ],
   "execution_count": 3,
   "outputs": []
  },
  {
   "cell_type": "code",
   "metadata": {
    "id": "h7aUARLtocCy"
   },
   "source": [
    ""
   ],
   "execution_count": 3,
   "outputs": []
  },
  {
   "cell_type": "markdown",
   "metadata": {
    "id": "Uxk24qMk8vrz"
   },
   "source": [
    "### Category Concentration - Downloads vs. Competition\n",
    "\n",
    "**Challenge**: \n",
    "* First, create a DataFrame that has the number of apps in one column and the number of installs in another:\n",
    "\n",
    "<img src=https://imgur.com/uQRSlXi.png width=\"350\">\n",
    "\n",
    "* Then use the [plotly express examples from the documentation](https://plotly.com/python/line-and-scatter/) alongside the [.scatter() API reference](https://plotly.com/python-api-reference/generated/plotly.express.scatter.html)to create scatter plot that looks like this. \n",
    "\n",
    "<img src=https://imgur.com/cHsqh6a.png>\n",
    "\n",
    "*Hint*: Use the size, hover_name and color parameters in .scatter(). To scale the yaxis, call .update_layout() and specify that the yaxis should be on a log-scale like so: yaxis=dict(type='log') "
   ]
  },
  {
   "cell_type": "code",
   "metadata": {
    "id": "tVvGPDY7oe5A"
   },
   "source": [
    ""
   ],
   "execution_count": 3,
   "outputs": []
  },
  {
   "cell_type": "markdown",
   "metadata": {
    "id": "dmXDF75WdiVC"
   },
   "source": [
    "# Extracting Nested Data from a Column\n",
    "\n",
    "**Challenge**: How many different types of genres are there? Can an app belong to more than one genre? Check what happens when you use .value_counts() on a column with nested values? See if you can work around this problem by using the .split() function and the DataFrame's [.stack() method](https://pandas.pydata.org/pandas-docs/stable/reference/api/pandas.DataFrame.stack.html). \n"
   ]
  },
  {
   "cell_type": "code",
   "metadata": {
    "id": "3Lo69kS6ogdm"
   },
   "source": [
    ""
   ],
   "execution_count": 3,
   "outputs": []
  },
  {
   "cell_type": "markdown",
   "metadata": {
    "id": "F3zaKvfydiVI"
   },
   "source": [
    "# Colour Scales in Plotly Charts - Competition in Genres"
   ]
  },
  {
   "cell_type": "markdown",
   "metadata": {
    "id": "Ucw6RT59diVK"
   },
   "source": [
    "**Challenge**: Can you create this chart with the Series containing the genre data? \n",
    "\n",
    "<img src=https://imgur.com/DbcoQli.png width=400>\n",
    "\n",
    "Try experimenting with the built in colour scales in Plotly. You can find a full list [here](https://plotly.com/python/builtin-colorscales/). \n",
    "\n",
    "* Find a way to set the colour scale using the color_continuous_scale parameter. \n",
    "* Find a way to make the color axis disappear by using coloraxis_showscale. "
   ]
  },
  {
   "cell_type": "code",
   "metadata": {
    "id": "c5xbfMgxojoA"
   },
   "source": [
    ""
   ],
   "execution_count": 3,
   "outputs": []
  },
  {
   "cell_type": "markdown",
   "metadata": {
    "id": "BIWG_10PyIzL"
   },
   "source": [
    "# Grouped Bar Charts: Free vs. Paid Apps per Category"
   ]
  },
  {
   "cell_type": "code",
   "metadata": {
    "id": "ANMs7xywolDH"
   },
   "source": [
    ""
   ],
   "execution_count": 3,
   "outputs": []
  },
  {
   "cell_type": "markdown",
   "metadata": {
    "id": "wmRXm0TW1e_Z"
   },
   "source": [
    "**Challenge**: Use the plotly express bar [chart examples](https://plotly.com/python/bar-charts/#bar-chart-with-sorted-or-ordered-categories) and the [.bar() API reference](https://plotly.com/python-api-reference/generated/plotly.express.bar.html#plotly.express.bar) to create this bar chart: \n",
    "\n",
    "<img src=https://imgur.com/LE0XCxA.png>\n",
    "\n",
    "You'll want to use the `df_free_vs_paid` DataFrame that you created above that has the total number of free and paid apps per category. \n",
    "\n",
    "See if you can figure out how to get the look above by changing the `categoryorder` to 'total descending' as outlined in the documentation here [here](https://plotly.com/python/categorical-axes/#automatically-sorting-categories-by-name-or-total-value). "
   ]
  },
  {
   "cell_type": "code",
   "metadata": {
    "id": "tqOntrS7onGt"
   },
   "source": [
    ""
   ],
   "execution_count": 3,
   "outputs": []
  },
  {
   "cell_type": "markdown",
   "metadata": {
    "id": "nbYh2tU-VZ-i"
   },
   "source": [
    "# Plotly Box Plots: Lost Downloads for Paid Apps\n",
    "\n",
    "**Challenge**: Create a box plot that shows the number of Installs for free versus paid apps. How does the median number of installations compare? Is the difference large or small?\n",
    "\n",
    "Use the [Box Plots Guide](https://plotly.com/python/box-plots/) and the [.box API reference](https://plotly.com/python-api-reference/generated/plotly.express.box.html) to create the following chart. \n",
    "\n",
    "<img src=https://imgur.com/uVsECT3.png>\n"
   ]
  },
  {
   "cell_type": "code",
   "metadata": {
    "id": "Jip3hMZ7oqLS"
   },
   "source": [
    ""
   ],
   "execution_count": 3,
   "outputs": []
  },
  {
   "cell_type": "markdown",
   "metadata": {
    "id": "Xi2NaEBPVNrP"
   },
   "source": [
    "# Plotly Box Plots: Revenue by App Category\n",
    "\n",
    "**Challenge**: See if you can generate the chart below: \n",
    "\n",
    "<img src=https://imgur.com/v4CiNqX.png>\n",
    "\n",
    "Looking at the hover text, how much does the median app earn in the Tools category? If developing an Android app costs $30,000 or thereabouts, does the average photography app recoup its development costs?\n",
    "\n",
    "Hint: I've used 'min ascending' to sort the categories. "
   ]
  },
  {
   "cell_type": "code",
   "metadata": {
    "id": "W1iVoT8Dos7x"
   },
   "source": [
    ""
   ],
   "execution_count": 3,
   "outputs": []
  },
  {
   "cell_type": "markdown",
   "metadata": {
    "id": "uT32ylj4WS9B"
   },
   "source": [
    "# How Much Can You Charge? Examine Paid App Pricing Strategies by Category\n",
    "\n",
    "**Challenge**: What is the median price price for a paid app? Then compare pricing by category by creating another box plot. But this time examine the prices (instead of the revenue estimates) of the paid apps. I recommend using `{categoryorder':'max descending'}` to sort the categories."
   ]
  },
  {
   "cell_type": "code",
   "metadata": {
    "id": "AdBr0TUhouqs"
   },
   "source": [
    ""
   ],
   "execution_count": 3,
   "outputs": []
  },
  {
   "cell_type": "code",
   "metadata": {
    "id": "bJnABRw3ovwr"
   },
   "source": [
    ""
   ],
   "execution_count": 3,
   "outputs": []
  },
  {
   "cell_type": "code",
   "metadata": {
    "id": "zSXVSlVyQ4Kz"
   },
   "source": [
    ""
   ],
   "execution_count": 3,
   "outputs": []
  }
 ]
}